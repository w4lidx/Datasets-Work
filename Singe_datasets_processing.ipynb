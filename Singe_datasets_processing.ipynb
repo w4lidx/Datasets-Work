{
 "cells": [
  {
   "cell_type": "code",
   "execution_count": 2,
   "id": "1c14fb55-8069-4b1e-ae9c-2c97f9d0e3ce",
   "metadata": {},
   "outputs": [],
   "source": [
    "import pandas as pd  # Data handling\n",
    "import numpy as np  # Numerical operations\n",
    "import matplotlib.pyplot as plt  # Basic plotting\n",
    "import seaborn as sns  # Advanced visualization\n",
    "from sklearn.model_selection import train_test_split  # Splitting data\n",
    "from sklearn.preprocessing import StandardScaler  # Normalization\n",
    "# Import necessary metrics\n",
    "from sklearn.metrics import accuracy_score, precision_score, recall_score, f1_score, roc_auc_score\n",
    "# Import machine learning models\n",
    "from sklearn.ensemble import RandomForestClassifier\n",
    "from sklearn.linear_model import LogisticRegression\n",
    "from sklearn.svm import SVC\n",
    "from sklearn.neighbors import KNeighborsClassifier\n"
   ]
  },
  {
   "cell_type": "code",
   "execution_count": 3,
   "id": "baa1910f-45fb-465a-8e94-e92f64b188ca",
   "metadata": {},
   "outputs": [
    {
     "name": "stderr",
     "output_type": "stream",
     "text": [
      "C:\\Users\\hp\\AppData\\Local\\Temp\\ipykernel_16276\\826868802.py:1: DtypeWarning: Columns (0,1,3,4,5,6,7,8,9,10,11,12,13,14,15,16,17,18,19,20,21,22,23,24,25,26,27,28,29,30,31,32,33,34,35,36,37,38,39,40,41,42,43,44,45,46,47,48,49,50,51,52,53,54,55,56,57,58,59,60,61,62,63,64,65,66,67,68,69,70,71,72,73,74,75,76,77,78) have mixed types. Specify dtype option on import or set low_memory=False.\n",
      "  df_2018 = pd.read_csv(r\"C:\\Users\\hp\\Desktop\\TFG\\Datasets\\CIC_IDS_2018.csv\")\n"
     ]
    }
   ],
   "source": [
    "df_2018 = pd.read_csv(r\"C:\\Users\\hp\\Desktop\\TFG\\Datasets\\CIC_IDS_2018.csv\")"
   ]
  },
  {
   "cell_type": "code",
   "execution_count": 4,
   "id": "a2bfa225-d853-410b-ab6b-8a0e0237a063",
   "metadata": {},
   "outputs": [],
   "source": [
    "df_2017 = pd.read_csv(r\"C:\\Users\\hp\\Desktop\\TFG\\Datasets\\CIC_IDS_2017.csv\")"
   ]
  },
  {
   "cell_type": "code",
   "execution_count": 7,
   "id": "cb823f2c-6679-401b-98f5-ade27007cd32",
   "metadata": {},
   "outputs": [
    {
     "name": "stderr",
     "output_type": "stream",
     "text": [
      "C:\\Users\\hp\\AppData\\Local\\Temp\\ipykernel_16276\\1858947473.py:1: DtypeWarning: Columns (1,3,39,47) have mixed types. Specify dtype option on import or set low_memory=False.\n",
      "  df_unsw = pd.read_csv(r\"C:\\Users\\hp\\Desktop\\TFG\\Datasets\\UNSW_NB15.csv\")\n"
     ]
    }
   ],
   "source": [
    "df_unsw = pd.read_csv(r\"C:\\Users\\hp\\Desktop\\TFG\\Datasets\\UNSW_NB15.csv\")"
   ]
  },
  {
   "cell_type": "code",
   "execution_count": 9,
   "id": "2115be82-8eb3-4f45-91c6-bbf18dc28201",
   "metadata": {},
   "outputs": [],
   "source": [
    "df_2017.columns = df_2017.columns.str.strip()\n",
    "df_2018.columns = df_2018.columns.str.strip()\n",
    "df_unsw.columns = df_unsw.columns.str.strip()\n",
    "\n"
   ]
  },
  {
   "cell_type": "code",
   "execution_count": 15,
   "id": "77141a3f-a3dd-40a9-ae3b-23c3123ff624",
   "metadata": {},
   "outputs": [],
   "source": [
    "label_map_2017 = {\n",
    "    \"BENIGN\": \"Benign\",\n",
    "    \"DoS Hulk\": \"DoS\",\n",
    "    \"PortScan\": \"PortScan\",\n",
    "    \"DDoS\": \"DDoS\",\n",
    "    \"DoS GoldenEye\": \"DoS\",\n",
    "    \"FTP-Patator\": \"BruteForce\",\n",
    "    \"SSH-Patator\": \"BruteForce\",\n",
    "    \"DoS slowloris\": \"DoS\",\n",
    "    \"DoS Slowhttptest\": \"DoS\",\n",
    "    \"Bot\": \"Botnet\",\n",
    "    \"Web Attack � Brute Force\": \"Web Attack\",\n",
    "    \"Web Attack � XSS\": \"Web Attack\",\n",
    "    \"Web Attack � Sql Injection\": \"Web Attack\",\n",
    "    \"Infiltration\": \"Infiltration\",\n",
    "    \"Heartbleed\": \"Heartbleed\"\n",
    "}\n",
    "\n",
    "label_map_2018 = {\n",
    "    \"Benign\": \"Benign\",\n",
    "    \"DDOS attack-HOIC\": \"DDoS\",\n",
    "    \"Bot\": \"Botnet\",\n",
    "    \"FTP-BruteForce\": \"BruteForce\",\n",
    "    \"SSH-Bruteforce\": \"BruteForce\",\n",
    "    \"Infilteration\": \"Infiltration\",  \n",
    "    \"DoS attacks-GoldenEye\": \"DoS\",\n",
    "    \"DoS attacks-Slowloris\": \"DoS\",\n",
    "    \"DDOS attack-LOIC-UDP\": \"DDoS\",\n",
    "}\n",
    "df_2017[\"Label\"] = df_2017[\"Label\"].map(label_map_2017)\n",
    "df_2018[\"Label\"] = df_2018[\"Label\"].map(label_map_2018)\n",
    "\n",
    "# Drop unmapped labels (e.g., \"Label\" in CICIDS2018)\n",
    "df_2017 = df_2017.dropna(subset=[\"Label\"])\n",
    "df_2018 = df_2018.dropna(subset=[\"Label\"])\n"
   ]
  },
  {
   "cell_type": "code",
   "execution_count": 27,
   "id": "feb93269-3ae9-4e34-bad6-0aea32dcc024",
   "metadata": {},
   "outputs": [],
   "source": [
    "cols_to_drop = [\"Protocol\", \"Timestamp\"]\n",
    "df_2018 = df_2018.drop(columns=cols_to_drop, errors=\"ignore\")\n",
    "non_numeric_cols = [\"Label\"]\n",
    "for df in [df_2018]:\n",
    "    for col in df.columns:\n",
    "        if col not in non_numeric_cols and df[col].dtype == \"object\":\n",
    "            df[col] = pd.to_numeric(df[col], errors=\"coerce\")\n"
   ]
  },
  {
   "cell_type": "code",
   "execution_count": 44,
   "id": "22e6e433-4adb-4ec5-a600-be65780468a9",
   "metadata": {},
   "outputs": [],
   "source": [
    "# Assign binary labels\n",
    "df_2017[\"Binary_Label\"] = df_2017[\"Label\"].apply(lambda x: 0 if x == \"Benign\" else 1)\n",
    "df_2018[\"Binary_Label\"] = df_2018[\"Label\"].apply(lambda x: 0 if x == \"Benign\" else 1)\n"
   ]
  },
  {
   "cell_type": "code",
   "execution_count": 35,
   "id": "27b40a45-45b2-440c-84a7-7d40c560530a",
   "metadata": {},
   "outputs": [],
   "source": [
    "\n",
    "column_mapping = {\n",
    "    # 2017 Columns               # 2018 Columns\n",
    "    'Destination Port':          'Dst Port',\n",
    "    'Total Fwd Packets':         'Tot Fwd Pkts',\n",
    "    'Total Backward Packets':    'Tot Bwd Pkts',\n",
    "    'Total Length of Fwd Packets': 'TotLen Fwd Pkts',\n",
    "    'Total Length of Bwd Packets': 'TotLen Bwd Pkts',\n",
    "    'Fwd Packet Length Max':     'Fwd Pkt Len Max',\n",
    "    'Fwd Packet Length Min':     'Fwd Pkt Len Min',\n",
    "    'Fwd Packet Length Mean':    'Fwd Pkt Len Mean',\n",
    "    'Fwd Packet Length Std':     'Fwd Pkt Len Std',\n",
    "    'Bwd Packet Length Max':     'Bwd Pkt Len Max',\n",
    "    'Bwd Packet Length Min':     'Bwd Pkt Len Min',\n",
    "    'Bwd Packet Length Mean':    'Bwd Pkt Len Mean',\n",
    "    'Bwd Packet Length Std':     'Bwd Pkt Len Std',\n",
    "    'Flow Bytes/s':              'Flow Byts/s',\n",
    "    'Flow Packets/s':            'Flow Pkts/s',\n",
    "    'Fwd Packets/s':             'Fwd Pkts/s',\n",
    "    'Bwd Packets/s':             'Bwd Pkts/s',\n",
    "    'Min Packet Length':         'Pkt Len Min',\n",
    "    'Max Packet Length':         'Pkt Len Max',\n",
    "    'Packet Length Mean':        'Pkt Len Mean',\n",
    "    'Packet Length Std':         'Pkt Len Std',\n",
    "    'Packet Length Variance':    'Pkt Len Var',\n",
    "    'FIN Flag Count':            'FIN Flag Cnt',\n",
    "    'SYN Flag Count':            'SYN Flag Cnt',\n",
    "    'RST Flag Count':            'RST Flag Cnt',\n",
    "    'PSH Flag Count':            'PSH Flag Cnt',\n",
    "    'ACK Flag Count':            'ACK Flag Cnt',\n",
    "    'URG Flag Count':            'URG Flag Cnt',\n",
    "    'CWE Flag Count':            'CWE Flag Count',\n",
    "    'ECE Flag Count':            'ECE Flag Cnt',\n",
    "    'Average Packet Size':       'Pkt Size Avg',\n",
    "    'Avg Fwd Segment Size':      'Fwd Seg Size Avg',\n",
    "    'Avg Bwd Segment Size':      'Bwd Seg Size Avg',\n",
    "    'Fwd Header Length.1':       'Fwd Header Len',\n",
    "    'Fwd Avg Bytes/Bulk':        'Fwd Byts/b Avg',\n",
    "    'Fwd Avg Packets/Bulk':      'Fwd Pkts/b Avg',\n",
    "    'Fwd Avg Bulk Rate':         'Fwd Blk Rate Avg',\n",
    "    'Bwd Avg Bytes/Bulk':        'Bwd Byts/b Avg',\n",
    "    'Bwd Avg Packets/Bulk':      'Bwd Pkts/b Avg',\n",
    "    'Bwd Avg Bulk Rate':         'Bwd Blk Rate Avg',\n",
    "    'Subflow Fwd Packets':       'Subflow Fwd Pkts',\n",
    "    'Subflow Fwd Bytes':         'Subflow Fwd Byts',\n",
    "    'Subflow Bwd Packets':       'Subflow Bwd Pkts',\n",
    "    'Subflow Bwd Bytes':         'Subflow Bwd Byts',\n",
    "    'Init_Win_bytes_forward':    'Init Fwd Win Byts',\n",
    "    'Init_Win_bytes_backward':   'Init Bwd Win Byts',\n",
    "    'act_data_pkt_fwd':          'Fwd Act Data Pkts',\n",
    "    'min_seg_size_forward':      'Fwd Seg Size Min'\n",
    "}\n",
    "\n",
    "# Rename 2017 columns to match 2018 naming convention\n",
    "df_2017 = df_2017.rename(columns=column_mapping)"
   ]
  },
  {
   "cell_type": "code",
   "execution_count": 31,
   "id": "1a0e0067-7ff5-4979-9550-3c013ab629bf",
   "metadata": {},
   "outputs": [],
   "source": [
    "# Combine the datasets\n",
    "df_combined = pd.concat([df_2017, df_2018], ignore_index=True)\n",
    "\n",
    "# Save the cleaned dataset\n",
    "df_combined.to_csv(r\"C:\\Users\\hp\\Desktop\\TFG\\Datasets\\CIC_IDS_Merged.csv\", index=False)\n"
   ]
  },
  {
   "cell_type": "code",
   "execution_count": 26,
   "id": "73af17b8-6372-4431-a5fe-62bcdb118e69",
   "metadata": {},
   "outputs": [
    {
     "data": {
      "text/plain": [
       "0          BENIGN\n",
       "1          BENIGN\n",
       "2          BENIGN\n",
       "3          BENIGN\n",
       "4          BENIGN\n",
       "            ...  \n",
       "2300820    BENIGN\n",
       "2300821    BENIGN\n",
       "2300822    BENIGN\n",
       "2300823    BENIGN\n",
       "2300824    BENIGN\n",
       "Name: Label, Length: 2300825, dtype: object"
      ]
     },
     "execution_count": 26,
     "metadata": {},
     "output_type": "execute_result"
    }
   ],
   "source": [
    "df_2017[\"Label\"]"
   ]
  },
  {
   "cell_type": "code",
   "execution_count": 44,
   "id": "b7e8362f-e9be-4ef8-ad87-914c489794e8",
   "metadata": {},
   "outputs": [
    {
     "name": "stdout",
     "output_type": "stream",
     "text": [
      "Columns with NaN values: ['Flow Byts/s']\n"
     ]
    }
   ],
   "source": [
    "nan_vars = df_2018.columns[df_2018.isna().any()].tolist()\n",
    "print(\"Columns with NaN values:\", nan_vars)\n",
    "\n",
    "\n"
   ]
  },
  {
   "cell_type": "code",
   "execution_count": 48,
   "id": "49c11d84-b0ea-4386-9a38-ff5179450061",
   "metadata": {},
   "outputs": [
    {
     "name": "stdout",
     "output_type": "stream",
     "text": [
      "Total NaN values in 'Flow Byts/s': 15631\n"
     ]
    }
   ],
   "source": [
    "nan_count = df_2018['Flow Byts/s'].isna().sum()\n",
    "print(f\"Total NaN values in 'Flow Byts/s': {nan_count}\")\n"
   ]
  },
  {
   "cell_type": "code",
   "execution_count": 52,
   "id": "03a9c39a-b02b-4c16-b5b5-9536fd5b8f0a",
   "metadata": {},
   "outputs": [
    {
     "name": "stdout",
     "output_type": "stream",
     "text": [
      "Percentage of NaNs in 'Flow Byts/s': 0.30%\n"
     ]
    }
   ],
   "source": [
    "nan_percentage = (nan_count / len(df_2018)) * 100\n",
    "print(f\"Percentage of NaNs in 'Flow Byts/s': {nan_percentage:.2f}%\")\n"
   ]
  },
  {
   "cell_type": "code",
   "execution_count": 58,
   "id": "3f8a82bf-7b4f-4a6a-a48a-69dc153e88a1",
   "metadata": {},
   "outputs": [],
   "source": [
    "df_2018.dropna(inplace=True)\n",
    "df_2017.dropna(inplace=True)\n",
    "\n",
    "\n",
    "\n"
   ]
  },
  {
   "cell_type": "code",
   "execution_count": 56,
   "id": "411b693f-48f0-4f85-980a-1c4034546aa5",
   "metadata": {},
   "outputs": [
    {
     "name": "stdout",
     "output_type": "stream",
     "text": [
      "Label\n",
      "Benign            14787\n",
      "Infilteration       838\n",
      "FTP-BruteForce        6\n",
      "Name: count, dtype: int64\n"
     ]
    }
   ],
   "source": [
    "nan_rows = df_2018[df_2018['Flow Byts/s'].isna()]\n",
    "print(nan_rows['Label'].value_counts())  # Count NaNs per attack type\n"
   ]
  },
  {
   "cell_type": "code",
   "execution_count": 41,
   "id": "46446137-e1d0-4941-b999-69385c14e88a",
   "metadata": {},
   "outputs": [
    {
     "name": "stdout",
     "output_type": "stream",
     "text": [
      "Columns only in CICIDS2017: set()\n",
      "Columns only in CICIDS2018: set()\n",
      "\n",
      "Count: 0 in 2017, 0 in 2018\n"
     ]
    }
   ],
   "source": [
    "# After renaming 2017 columns but BEFORE selecting common columns\n",
    "unique_to_2017 = set(df_2017.columns) - set(df_2018.columns)\n",
    "unique_to_2018 = set(df_2018.columns) - set(df_2017.columns)\n",
    "\n",
    "print(\"Columns only in CICIDS2017:\", unique_to_2017)\n",
    "print(\"Columns only in CICIDS2018:\", unique_to_2018)\n",
    "print(f\"\\nCount: {len(unique_to_2017)} in 2017, {len(unique_to_2018)} in 2018\")"
   ]
  },
  {
   "cell_type": "code",
   "execution_count": 39,
   "id": "da125bd2-50e9-45b6-afd1-46150543a832",
   "metadata": {},
   "outputs": [
    {
     "name": "stdout",
     "output_type": "stream",
     "text": [
      "Remaining unique to 2017: set()\n",
      "Remaining unique to 2018: set()\n"
     ]
    }
   ],
   "source": [
    "\n",
    "\n",
    "# 1. Update column mapping\n",
    "column_mapping.update({\n",
    "    'Bwd IAT Total': 'Bwd IAT Tot',\n",
    "    'Fwd IAT Total': 'Fwd IAT Tot',\n",
    "    'Bwd Header Length': 'Bwd Header Len'\n",
    "})\n",
    "\n",
    "# 2. Rename 2017 columns\n",
    "df_2017 = df_2017.rename(columns=column_mapping)\n",
    "\n",
    "# 3. Drop columns that exist only in 2017 and couldn't be mapped\n",
    "df_2017 = df_2017.drop(columns=['Fwd Header Length'], errors='ignore')\n",
    "\n",
    "# 4. Verify no remaining mismatches\n",
    "unique_to_2017 = set(df_2017.columns) - set(df_2018.columns)\n",
    "unique_to_2018 = set(df_2018.columns) - set(df_2017.columns)\n",
    "\n",
    "print(\"Remaining unique to 2017:\", unique_to_2017)  # Should be empty\n",
    "print(\"Remaining unique to 2018:\", unique_to_2018)  # Should be empty"
   ]
  },
  {
   "cell_type": "code",
   "execution_count": 43,
   "id": "57f9211b-93d9-4fdb-a29f-8ec9f1aa9a7a",
   "metadata": {},
   "outputs": [],
   "source": [
    "merged_df = pd.concat([df_2017, df_2018], ignore_index=True)\n"
   ]
  },
  {
   "cell_type": "code",
   "execution_count": 51,
   "id": "be18eb82-3886-423b-a335-8395575b5c71",
   "metadata": {},
   "outputs": [],
   "source": [
    "# Shuffle the DataFrame while maintaining data integrity\n",
    "shuffled_df = merged_df.sample(frac=1, random_state=42).reset_index(drop=True)"
   ]
  },
  {
   "cell_type": "code",
   "execution_count": 53,
   "id": "314139e6-1b64-4c17-889d-52bb50f991f0",
   "metadata": {},
   "outputs": [],
   "source": [
    "shuffled_df['is_attack'] = shuffled_df['Label'].apply(\n",
    "    lambda x: 0 if x == 'Benign' else 1  # Encode directly as integers\n",
    ")"
   ]
  },
  {
   "cell_type": "code",
   "execution_count": 59,
   "id": "d506a32f-c94f-4d6b-9d27-7d27dcb7ab27",
   "metadata": {},
   "outputs": [
    {
     "data": {
      "text/html": [
       "<div>\n",
       "<style scoped>\n",
       "    .dataframe tbody tr th:only-of-type {\n",
       "        vertical-align: middle;\n",
       "    }\n",
       "\n",
       "    .dataframe tbody tr th {\n",
       "        vertical-align: top;\n",
       "    }\n",
       "\n",
       "    .dataframe thead th {\n",
       "        text-align: right;\n",
       "    }\n",
       "</style>\n",
       "<table border=\"1\" class=\"dataframe\">\n",
       "  <thead>\n",
       "    <tr style=\"text-align: right;\">\n",
       "      <th></th>\n",
       "      <th>Dst Port</th>\n",
       "      <th>Flow Duration</th>\n",
       "      <th>Tot Fwd Pkts</th>\n",
       "      <th>Tot Bwd Pkts</th>\n",
       "      <th>TotLen Fwd Pkts</th>\n",
       "      <th>TotLen Bwd Pkts</th>\n",
       "      <th>Fwd Pkt Len Max</th>\n",
       "      <th>Fwd Pkt Len Min</th>\n",
       "      <th>Fwd Pkt Len Mean</th>\n",
       "      <th>Fwd Pkt Len Std</th>\n",
       "      <th>...</th>\n",
       "      <th>Active Mean</th>\n",
       "      <th>Active Std</th>\n",
       "      <th>Active Max</th>\n",
       "      <th>Active Min</th>\n",
       "      <th>Idle Mean</th>\n",
       "      <th>Idle Std</th>\n",
       "      <th>Idle Max</th>\n",
       "      <th>Idle Min</th>\n",
       "      <th>Label</th>\n",
       "      <th>is_attack</th>\n",
       "    </tr>\n",
       "  </thead>\n",
       "  <tbody>\n",
       "    <tr>\n",
       "      <th>0</th>\n",
       "      <td>80</td>\n",
       "      <td>142709</td>\n",
       "      <td>3</td>\n",
       "      <td>5</td>\n",
       "      <td>315</td>\n",
       "      <td>11595.0</td>\n",
       "      <td>315</td>\n",
       "      <td>0</td>\n",
       "      <td>105.0</td>\n",
       "      <td>181.865335</td>\n",
       "      <td>...</td>\n",
       "      <td>0.0</td>\n",
       "      <td>0.0</td>\n",
       "      <td>0.0</td>\n",
       "      <td>0.0</td>\n",
       "      <td>0.0</td>\n",
       "      <td>0.0</td>\n",
       "      <td>0.0</td>\n",
       "      <td>0.0</td>\n",
       "      <td>DoS</td>\n",
       "      <td>1</td>\n",
       "    </tr>\n",
       "    <tr>\n",
       "      <th>1</th>\n",
       "      <td>80</td>\n",
       "      <td>7139</td>\n",
       "      <td>2</td>\n",
       "      <td>0</td>\n",
       "      <td>0</td>\n",
       "      <td>0.0</td>\n",
       "      <td>0</td>\n",
       "      <td>0</td>\n",
       "      <td>0.0</td>\n",
       "      <td>0.000000</td>\n",
       "      <td>...</td>\n",
       "      <td>0.0</td>\n",
       "      <td>0.0</td>\n",
       "      <td>0.0</td>\n",
       "      <td>0.0</td>\n",
       "      <td>0.0</td>\n",
       "      <td>0.0</td>\n",
       "      <td>0.0</td>\n",
       "      <td>0.0</td>\n",
       "      <td>DDoS</td>\n",
       "      <td>1</td>\n",
       "    </tr>\n",
       "    <tr>\n",
       "      <th>2</th>\n",
       "      <td>80</td>\n",
       "      <td>3316</td>\n",
       "      <td>2</td>\n",
       "      <td>0</td>\n",
       "      <td>0</td>\n",
       "      <td>0.0</td>\n",
       "      <td>0</td>\n",
       "      <td>0</td>\n",
       "      <td>0.0</td>\n",
       "      <td>0.000000</td>\n",
       "      <td>...</td>\n",
       "      <td>0.0</td>\n",
       "      <td>0.0</td>\n",
       "      <td>0.0</td>\n",
       "      <td>0.0</td>\n",
       "      <td>0.0</td>\n",
       "      <td>0.0</td>\n",
       "      <td>0.0</td>\n",
       "      <td>0.0</td>\n",
       "      <td>DDoS</td>\n",
       "      <td>1</td>\n",
       "    </tr>\n",
       "    <tr>\n",
       "      <th>3</th>\n",
       "      <td>7676</td>\n",
       "      <td>54</td>\n",
       "      <td>1</td>\n",
       "      <td>1</td>\n",
       "      <td>0</td>\n",
       "      <td>6.0</td>\n",
       "      <td>0</td>\n",
       "      <td>0</td>\n",
       "      <td>0.0</td>\n",
       "      <td>0.000000</td>\n",
       "      <td>...</td>\n",
       "      <td>0.0</td>\n",
       "      <td>0.0</td>\n",
       "      <td>0.0</td>\n",
       "      <td>0.0</td>\n",
       "      <td>0.0</td>\n",
       "      <td>0.0</td>\n",
       "      <td>0.0</td>\n",
       "      <td>0.0</td>\n",
       "      <td>PortScan</td>\n",
       "      <td>1</td>\n",
       "    </tr>\n",
       "    <tr>\n",
       "      <th>4</th>\n",
       "      <td>53</td>\n",
       "      <td>307</td>\n",
       "      <td>1</td>\n",
       "      <td>1</td>\n",
       "      <td>31</td>\n",
       "      <td>47.0</td>\n",
       "      <td>31</td>\n",
       "      <td>31</td>\n",
       "      <td>31.0</td>\n",
       "      <td>0.000000</td>\n",
       "      <td>...</td>\n",
       "      <td>0.0</td>\n",
       "      <td>0.0</td>\n",
       "      <td>0.0</td>\n",
       "      <td>0.0</td>\n",
       "      <td>0.0</td>\n",
       "      <td>0.0</td>\n",
       "      <td>0.0</td>\n",
       "      <td>0.0</td>\n",
       "      <td>Benign</td>\n",
       "      <td>0</td>\n",
       "    </tr>\n",
       "  </tbody>\n",
       "</table>\n",
       "<p>5 rows × 79 columns</p>\n",
       "</div>"
      ],
      "text/plain": [
       "   Dst Port  Flow Duration  Tot Fwd Pkts  Tot Bwd Pkts  TotLen Fwd Pkts  \\\n",
       "0        80         142709             3             5              315   \n",
       "1        80           7139             2             0                0   \n",
       "2        80           3316             2             0                0   \n",
       "3      7676             54             1             1                0   \n",
       "4        53            307             1             1               31   \n",
       "\n",
       "   TotLen Bwd Pkts  Fwd Pkt Len Max  Fwd Pkt Len Min  Fwd Pkt Len Mean  \\\n",
       "0          11595.0              315                0             105.0   \n",
       "1              0.0                0                0               0.0   \n",
       "2              0.0                0                0               0.0   \n",
       "3              6.0                0                0               0.0   \n",
       "4             47.0               31               31              31.0   \n",
       "\n",
       "   Fwd Pkt Len Std  ...  Active Mean  Active Std  Active Max  Active Min  \\\n",
       "0       181.865335  ...          0.0         0.0         0.0         0.0   \n",
       "1         0.000000  ...          0.0         0.0         0.0         0.0   \n",
       "2         0.000000  ...          0.0         0.0         0.0         0.0   \n",
       "3         0.000000  ...          0.0         0.0         0.0         0.0   \n",
       "4         0.000000  ...          0.0         0.0         0.0         0.0   \n",
       "\n",
       "   Idle Mean  Idle Std  Idle Max  Idle Min     Label  is_attack  \n",
       "0        0.0       0.0       0.0       0.0       DoS          1  \n",
       "1        0.0       0.0       0.0       0.0      DDoS          1  \n",
       "2        0.0       0.0       0.0       0.0      DDoS          1  \n",
       "3        0.0       0.0       0.0       0.0  PortScan          1  \n",
       "4        0.0       0.0       0.0       0.0    Benign          0  \n",
       "\n",
       "[5 rows x 79 columns]"
      ]
     },
     "execution_count": 59,
     "metadata": {},
     "output_type": "execute_result"
    }
   ],
   "source": [
    "shuffled_df.head()"
   ]
  },
  {
   "cell_type": "code",
   "execution_count": 61,
   "id": "b2d769c7-882f-42fc-8a06-acd5c9217fce",
   "metadata": {},
   "outputs": [],
   "source": [
    "shuffled_df.to_csv(r\"C:\\Users\\hp\\Desktop\\TFG\\Datasets\\CIC_IDS_Merged.csv\", index=False)"
   ]
  },
  {
   "cell_type": "code",
   "execution_count": null,
   "id": "e1a91dbc-7f8b-4ca8-8d06-10d96804ae5f",
   "metadata": {},
   "outputs": [],
   "source": []
  }
 ],
 "metadata": {
  "kernelspec": {
   "display_name": "Python [conda env:base] *",
   "language": "python",
   "name": "conda-base-py"
  },
  "language_info": {
   "codemirror_mode": {
    "name": "ipython",
    "version": 3
   },
   "file_extension": ".py",
   "mimetype": "text/x-python",
   "name": "python",
   "nbconvert_exporter": "python",
   "pygments_lexer": "ipython3",
   "version": "3.12.7"
  }
 },
 "nbformat": 4,
 "nbformat_minor": 5
}
