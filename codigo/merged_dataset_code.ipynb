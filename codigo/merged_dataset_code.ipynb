{
 "cells": [
  {
   "cell_type": "code",
   "execution_count": 4,
   "id": "e34d1b79-0ebe-4551-8360-aecc8f2a6809",
   "metadata": {},
   "outputs": [],
   "source": [
    "import pandas as pd \n",
    "import numpy as np  \n",
    "import matplotlib.pyplot as plt  \n",
    "import seaborn as sns \n",
    "from sklearn.model_selection import train_test_split\n",
    "from sklearn.preprocessing import StandardScaler  \n",
    "# Import necessary metrics\n",
    "from sklearn.metrics import accuracy_score, precision_score, recall_score, f1_score, roc_auc_score, classification_report, confusion_matrix\n",
    "# Import machine learning models\n",
    "from sklearn.ensemble import RandomForestClassifier\n",
    "from sklearn.linear_model import LogisticRegression\n",
    "from sklearn.svm import SVC\n",
    "from sklearn.neighbors import KNeighborsClassifier\n",
    "from imblearn.under_sampling import RandomUnderSampler\n",
    "from imblearn.over_sampling import SMOTE\n",
    "from imblearn.pipeline import Pipeline"
   ]
  },
  {
   "cell_type": "code",
   "execution_count": 6,
   "id": "099f4c65-e36c-4db0-abd1-2c4a7788d748",
   "metadata": {
    "scrolled": true
   },
   "outputs": [
    {
     "name": "stderr",
     "output_type": "stream",
     "text": [
      "C:\\Users\\hp\\AppData\\Local\\Temp\\ipykernel_16740\\3018969767.py:2: DtypeWarning: Columns (1,3,39,47) have mixed types. Specify dtype option on import or set low_memory=False.\n",
      "  df1 = pd.read_csv(r\"C:\\Users\\hp\\Desktop\\TFG\\Datasets\\UNSW_NB15.csv\")\n"
     ]
    }
   ],
   "source": [
    "df = pd.read_csv(r\"C:\\Users\\hp\\Desktop\\TFG\\Datasets\\CIC_IDS_Merged.csv\")\n",
    "df1 = pd.read_csv(r\"C:\\Users\\hp\\Desktop\\TFG\\Datasets\\UNSW_NB15.csv\")"
   ]
  },
  {
   "cell_type": "code",
   "execution_count": 5,
   "id": "74b9a564-cf04-43b4-a53c-19ce30978810",
   "metadata": {},
   "outputs": [],
   "source": [
    "# Normalize the 'attack_cat' column directly\n",
    "def normalize_label(label):\n",
    "    if pd.isnull(label):\n",
    "        return 'benign'  # Assign NaN values to 'benign'\n",
    "    \n",
    "    # Remove extra spaces and make the label lowercase\n",
    "    label = str(label).strip().lower()\n",
    "    \n",
    "    # Dictionary for replacing and normalizing labels\n",
    "    replacements = {\n",
    "        'backdoors': 'backdoor',  # Merge 'backdoors' into 'backdoor'\n",
    "        'shellcode': 'shellcode',\n",
    "        'fuzzers': 'fuzzers',\n",
    "        'reconnaissance': 'reconnaissance',\n",
    "        'analysis': 'analysis',\n",
    "        'worms': 'worms',\n",
    "        'exploits': 'exploits',\n",
    "        'dos': 'dos',  # Normalize DoS to dos\n",
    "    }\n",
    "    \n",
    "    # Apply the replacement rules\n",
    "    return replacements.get(label, label)\n",
    "\n",
    "# Apply the normalization function directly to the 'attack_cat' column\n",
    "df1['attack_cat'] = df1['attack_cat'].apply(normalize_label)\n"
   ]
  },
  {
   "cell_type": "code",
   "execution_count": 7,
   "id": "e4778472-05fa-4650-9078-50bb7f4b8053",
   "metadata": {},
   "outputs": [],
   "source": [
    "\n",
    "# Rename columns to match UNSW naming conventions\n",
    "df = df.rename(columns={\n",
    "    'Flow Duration': 'dur',\n",
    "    'Dst Port': 'dsport',\n",
    "    'Tot Fwd Pkts': 'Spkts',\n",
    "    'Tot Bwd Pkts': 'Dpkts',\n",
    "    'TotLen Fwd Pkts': 'sbytes',\n",
    "    'TotLen Bwd Pkts': 'dbytes',\n",
    "    'Fwd Pkt Len Mean': 'smeansz',\n",
    "    'Bwd Pkt Len Mean': 'dmeansz',\n",
    "    'Init Fwd Win Byts': 'swin',\n",
    "    'Init Bwd Win Byts': 'dwin',\n",
    "    'Fwd IAT Std': 'Sjit',\n",
    "    'Bwd IAT Std': 'Djit',  # Align label name with UNSW\n",
    "})\n",
    "\n",
    "# Drop non-overlapping features\n",
    "df = df.drop(columns=[\n",
    "    'Fwd PSH Flags', 'Bwd PSH Flags', 'Fwd URG Flags', 'Bwd URG Flags',\n",
    "    'Fwd Header Len', 'Bwd Header Len', 'Active Mean', 'Idle Mean',  # CIC-specific\n",
    "    'Label'  # Original CIC label (keep only 'is_attack' renamed to 'Label')\n",
    "], errors='ignore')\n",
    "\n",
    "# Ensure data type alignment\n",
    "df['dbytes'] = df['dbytes'].astype(float)"
   ]
  },
  {
   "cell_type": "code",
   "execution_count": 9,
   "id": "da4f1fcf-f29b-43f0-ab97-9a8997578501",
   "metadata": {},
   "outputs": [],
   "source": [
    "# Convertir todas las features temporales de UNSW a microsegundos\n",
    "df1['dur'] = df1['dur'] * 1_000_000      \n",
    "df1['Sjit'] = df1['Sjit'] * 1000          \n",
    "df1['Djit'] = df1['Djit'] * 1000          \n",
    "df1['Sintpkt'] = df1['Sintpkt'] * 1000    \n",
    "df1['Dintpkt'] = df1['Dintpkt'] * 1000   "
   ]
  },
  {
   "cell_type": "code",
   "execution_count": 17,
   "id": "3cf1aaec-d48f-4350-b092-7f85caa48c48",
   "metadata": {},
   "outputs": [],
   "source": [
    "df1 = df1.rename(columns={\n",
    "    'dur': 'dur',\n",
    "    'dsport': 'dsport',\n",
    "    'Spkts': 'Spkts',\n",
    "    'Dpkts': 'Dpkts',\n",
    "    'sbytes': 'sbytes',\n",
    "    'dbytes': 'dbytes',\n",
    "    'smeansz': 'smeansz',\n",
    "    'dmeansz': 'dmeansz',\n",
    "    'swin': 'swin',\n",
    "    'dwin': 'dwin',\n",
    "    'Sjit': 'Sjit',\n",
    "    'Djit': 'Djit',\n",
    "    'Label':'is_attack'\n",
    "})\n",
    "\n",
    "\n",
    "# Drop non-overlapping features\n",
    "df1 = df1.drop(columns=[\n",
    "    'srcip','proto', 'dstip', 'sport', 'state', 'ct_state_ttl', 'ct_flw_http_mthd',\n",
    "    'is_sm_ips_ports', 'ct_ftp_cmd', 'attack_cat'  # UNSW-specific\n",
    "], errors='ignore')\n",
    "\n",
    "# Ensure data type alignment\n",
    "df1['is_attack'] = df1['is_attack'].astype(int)\n",
    "# Calcular tasas y manejar divisiones por cero\n",
    "df1['Flow Byts/s'] = np.where(\n",
    "    df1['dur'] != 0,  # Evitar división por cero\n",
    "    (df1['sbytes'] + df1['dbytes']) / (df1['dur'] / 1_000_000),  # B/s\n",
    "    np.nan  # Asignar NaN si dur=0\n",
    ")\n",
    "\n",
    "df1['Flow Pkts/s'] = np.where(\n",
    "    df1['dur'] != 0,\n",
    "    (df1['Spkts'] + df1['Dpkts']) / (df1['dur'] / 1_000_000),  # Pkts/s\n",
    "    np.nan\n",
    ")\n",
    "\n",
    "# Calcular Fwd IAT Mean y manejar Spkts + Dpkts = 0\n",
    "df1['total_pkts'] = df1['Spkts'] + df1['Dpkts']\n",
    "df1['Fwd IAT Mean'] = np.where(\n",
    "    df1['total_pkts'] != 0,\n",
    "    (df1['Sintpkt'] * df1['Spkts'] + df1['Dintpkt'] * df1['Dpkts']) / df1['total_pkts'],\n",
    "    np.nan\n",
    ")\n",
    "common_features = [\n",
    "    'dur', 'dsport', 'Spkts', 'Dpkts', 'sbytes', 'dbytes',\n",
    "    'smeansz', 'dmeansz', 'swin', 'dwin', 'Sjit', 'Djit',\n",
    "    'Flow Byts/s','Flow Pkts/s','Fwd IAT Mean','is_attack'\n",
    "]\n",
    "df = df[common_features]\n",
    "df1 = df1[common_features]"
   ]
  },
  {
   "cell_type": "code",
   "execution_count": 25,
   "id": "b16b6b0b-6d8e-4d03-94cc-d0cb65abc554",
   "metadata": {},
   "outputs": [],
   "source": [
    "df1 = df1.sample(frac=1, random_state=42).reset_index(drop=True) #Shuffle UNSW NB15 for randomness"
   ]
  },
  {
   "cell_type": "code",
   "execution_count": 35,
   "id": "2bfc35dd-228a-47f0-b704-bb0a191cfe49",
   "metadata": {},
   "outputs": [],
   "source": [
    "# Convert dsport to numeric, coercing errors to NaN\n",
    "df1['dsport'] = pd.to_numeric(df1['dsport'], errors='coerce')\n",
    "# For CICIDS (df)\n",
    "df['dur'] = df['dur'].astype('float64')  # Match UNSW's dtype\n",
    "# For UNSW (df1)\n",
    "df1['dbytes'] = df1['dbytes'].astype('float64')   # Match CICIDS' dtype\n",
    "df1['smeansz'] = df1['smeansz'].astype('float64')\n",
    "df1['dmeansz'] = df1['dmeansz'].astype('float64')"
   ]
  },
  {
   "cell_type": "code",
   "execution_count": 49,
   "id": "f9269f14-5028-4717-8e44-d69bf8338ffd",
   "metadata": {},
   "outputs": [],
   "source": [
    "# Drop rows with NaN in dsport\n",
    "df1 = df1.dropna(subset=['dsport'])"
   ]
  },
  {
   "cell_type": "code",
   "execution_count": 57,
   "id": "b30b8599-74a1-4f05-9a5c-a1a4ce7b63b6",
   "metadata": {},
   "outputs": [],
   "source": [
    "# For UNSW (df1)\n",
    "df1['dsport'] = df1['dsport'].astype('int64')\n",
    "# For UNSW (df1)\n",
    "df1['is_attack'] = df1['is_attack'].astype('int64')"
   ]
  },
  {
   "cell_type": "code",
   "execution_count": 59,
   "id": "c5ea055a-27bd-4ab4-be29-89a4988e52f7",
   "metadata": {},
   "outputs": [],
   "source": [
    "# Merge datasets\n",
    "merged_df = pd.concat([df, df1], ignore_index=True)\n",
    "# Save to CSV\n",
    "merged_df.to_csv(r\"C:\\Users\\hp\\Desktop\\TFG\\Datasets\\mergedDS.csv\", index=False)"
   ]
  },
  {
   "cell_type": "code",
   "execution_count": 96,
   "id": "e90fce74-7378-43bd-ac6a-7731b4f23d52",
   "metadata": {},
   "outputs": [],
   "source": [
    "def map_unsw_attack(attack):\n",
    "    if attack == \"benign\":\n",
    "        return \"Normal\"\n",
    "    elif attack == \"dos\":\n",
    "        return \"DoS\"\n",
    "    elif attack in [\"reconnaissance\", \"fuzzers\"]:\n",
    "        return \"Reconnaissance\"\n",
    "    elif attack == \"exploits\":\n",
    "        return \"Exploits\"\n",
    "    elif attack in [\"backdoor\", \"worms\", \"shellcode\"]:\n",
    "        return \"Infiltration\"\n",
    "    else:\n",
    "        return attack  # Leaves 'generic' and 'analysis' unchanged"
   ]
  },
  {
   "cell_type": "code",
   "execution_count": 294,
   "id": "1f2ee168-330c-4543-8b7b-752473efff12",
   "metadata": {},
   "outputs": [],
   "source": [
    "X = merged_df.drop(columns=[\"is_attack\"])\n",
    "y = merged_df[\"is_attack\"]"
   ]
  },
  {
   "cell_type": "code",
   "execution_count": 296,
   "id": "e8974f03-caea-4f98-ad32-43fb9c945240",
   "metadata": {},
   "outputs": [],
   "source": [
    "# Split into train/test sets (stratify to handle imbalance)\n",
    "X_train, X_test, y_train, y_test = train_test_split(\n",
    "    X,  # or X if not scaled\n",
    "    y,\n",
    "    test_size=0.2,\n",
    "    stratify=y,\n",
    "    random_state=42\n",
    ")"
   ]
  }
 ],
 "metadata": {
  "kernelspec": {
   "display_name": "Python [conda env:base] *",
   "language": "python",
   "name": "conda-base-py"
  },
  "language_info": {
   "codemirror_mode": {
    "name": "ipython",
    "version": 3
   },
   "file_extension": ".py",
   "mimetype": "text/x-python",
   "name": "python",
   "nbconvert_exporter": "python",
   "pygments_lexer": "ipython3",
   "version": "3.12.7"
  }
 },
 "nbformat": 4,
 "nbformat_minor": 5
}
