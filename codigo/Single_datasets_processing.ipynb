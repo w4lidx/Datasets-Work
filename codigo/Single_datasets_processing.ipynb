{
 "cells": [
  {
   "cell_type": "code",
   "execution_count": 2,
   "id": "1c14fb55-8069-4b1e-ae9c-2c97f9d0e3ce",
   "metadata": {},
   "outputs": [],
   "source": [
    "import pandas as pd  # Data handling\n",
    "import numpy as np  # Numerical operations\n",
    "import matplotlib.pyplot as plt  # Basic plotting\n",
    "import seaborn as sns  # Advanced visualization\n",
    "from sklearn.model_selection import train_test_split  # Splitting data\n",
    "from sklearn.preprocessing import StandardScaler  # Normalization\n",
    "# Import necessary metrics\n",
    "from sklearn.metrics import accuracy_score, precision_score, recall_score, f1_score, roc_auc_score\n",
    "# Import machine learning models\n",
    "from sklearn.ensemble import RandomForestClassifier\n",
    "from sklearn.linear_model import LogisticRegression\n",
    "from sklearn.svm import SVC\n",
    "from sklearn.neighbors import KNeighborsClassifier\n"
   ]
  },
  {
   "cell_type": "code",
   "execution_count": 3,
   "id": "baa1910f-45fb-465a-8e94-e92f64b188ca",
   "metadata": {},
   "outputs": [
    {
     "name": "stderr",
     "output_type": "stream",
     "text": [
      "C:\\Users\\hp\\AppData\\Local\\Temp\\ipykernel_16276\\826868802.py:1: DtypeWarning: Columns (0,1,3,4,5,6,7,8,9,10,11,12,13,14,15,16,17,18,19,20,21,22,23,24,25,26,27,28,29,30,31,32,33,34,35,36,37,38,39,40,41,42,43,44,45,46,47,48,49,50,51,52,53,54,55,56,57,58,59,60,61,62,63,64,65,66,67,68,69,70,71,72,73,74,75,76,77,78) have mixed types. Specify dtype option on import or set low_memory=False.\n",
      "  df_2018 = pd.read_csv(r\"C:\\Users\\hp\\Desktop\\TFG\\Datasets\\CIC_IDS_2018.csv\")\n"
     ]
    }
   ],
   "source": [
    "df_2018 = pd.read_csv(r\"C:\\Users\\hp\\Desktop\\TFG\\Datasets\\CIC_IDS_2018.csv\")"
   ]
  },
  {
   "cell_type": "code",
   "execution_count": 4,
   "id": "a2bfa225-d853-410b-ab6b-8a0e0237a063",
   "metadata": {},
   "outputs": [],
   "source": [
    "df_2017 = pd.read_csv(r\"C:\\Users\\hp\\Desktop\\TFG\\Datasets\\CIC_IDS_2017.csv\")"
   ]
  },
  {
   "cell_type": "code",
   "execution_count": 7,
   "id": "cb823f2c-6679-401b-98f5-ade27007cd32",
   "metadata": {},
   "outputs": [
    {
     "name": "stderr",
     "output_type": "stream",
     "text": [
      "C:\\Users\\hp\\AppData\\Local\\Temp\\ipykernel_16276\\1858947473.py:1: DtypeWarning: Columns (1,3,39,47) have mixed types. Specify dtype option on import or set low_memory=False.\n",
      "  df_unsw = pd.read_csv(r\"C:\\Users\\hp\\Desktop\\TFG\\Datasets\\UNSW_NB15.csv\")\n"
     ]
    }
   ],
   "source": [
    "df_unsw = pd.read_csv(r\"C:\\Users\\hp\\Desktop\\TFG\\Datasets\\UNSW_NB15.csv\")"
   ]
  },
  {
   "cell_type": "code",
   "execution_count": 9,
   "id": "2115be82-8eb3-4f45-91c6-bbf18dc28201",
   "metadata": {},
   "outputs": [],
   "source": [
    "df_2017.columns = df_2017.columns.str.strip()\n",
    "df_2018.columns = df_2018.columns.str.strip()\n",
    "df_unsw.columns = df_unsw.columns.str.strip()\n",
    "\n"
   ]
  },
  {
   "cell_type": "code",
   "execution_count": 15,
   "id": "77141a3f-a3dd-40a9-ae3b-23c3123ff624",
   "metadata": {},
   "outputs": [],
   "source": [
    "label_map_2017 = {\n",
    "    \"BENIGN\": \"Benign\",\n",
    "    \"DoS Hulk\": \"DoS\",\n",
    "    \"PortScan\": \"PortScan\",\n",
    "    \"DDoS\": \"DDoS\",\n",
    "    \"DoS GoldenEye\": \"DoS\",\n",
    "    \"FTP-Patator\": \"BruteForce\",\n",
    "    \"SSH-Patator\": \"BruteForce\",\n",
    "    \"DoS slowloris\": \"DoS\",\n",
    "    \"DoS Slowhttptest\": \"DoS\",\n",
    "    \"Bot\": \"Botnet\",\n",
    "    \"Web Attack � Brute Force\": \"Web Attack\",\n",
    "    \"Web Attack � XSS\": \"Web Attack\",\n",
    "    \"Web Attack � Sql Injection\": \"Web Attack\",\n",
    "    \"Infiltration\": \"Infiltration\",\n",
    "    \"Heartbleed\": \"Heartbleed\"\n",
    "}\n",
    "\n",
    "label_map_2018 = {\n",
    "    \"Benign\": \"Benign\",\n",
    "    \"DDOS attack-HOIC\": \"DDoS\",\n",
    "    \"Bot\": \"Botnet\",\n",
    "    \"FTP-BruteForce\": \"BruteForce\",\n",
    "    \"SSH-Bruteforce\": \"BruteForce\",\n",
    "    \"Infilteration\": \"Infiltration\",  \n",
    "    \"DoS attacks-GoldenEye\": \"DoS\",\n",
    "    \"DoS attacks-Slowloris\": \"DoS\",\n",
    "    \"DDOS attack-LOIC-UDP\": \"DDoS\",\n",
    "}\n",
    "df_2017[\"Label\"] = df_2017[\"Label\"].map(label_map_2017)\n",
    "df_2018[\"Label\"] = df_2018[\"Label\"].map(label_map_2018)\n",
    "\n",
    "# Drop unmapped labels (e.g., \"Label\" in CICIDS2018)\n",
    "df_2017 = df_2017.dropna(subset=[\"Label\"])\n",
    "df_2018 = df_2018.dropna(subset=[\"Label\"])\n"
   ]
  },
  {
   "cell_type": "code",
   "execution_count": 27,
   "id": "feb93269-3ae9-4e34-bad6-0aea32dcc024",
   "metadata": {},
   "outputs": [],
   "source": [
    "cols_to_drop = [\"Protocol\", \"Timestamp\"]\n",
    "df_2018 = df_2018.drop(columns=cols_to_drop, errors=\"ignore\")\n",
    "non_numeric_cols = [\"Label\"]\n",
    "for df in [df_2018]:\n",
    "    for col in df.columns:\n",
    "        if col not in non_numeric_cols and df[col].dtype == \"object\":\n",
    "            df[col] = pd.to_numeric(df[col], errors=\"coerce\")\n"
   ]
  },
  {
   "cell_type": "code",
   "execution_count": 44,
   "id": "22e6e433-4adb-4ec5-a600-be65780468a9",
   "metadata": {},
   "outputs": [],
   "source": [
    "# Assign binary labels\n",
    "df_2017[\"Binary_Label\"] = df_2017[\"Label\"].apply(lambda x: 0 if x == \"Benign\" else 1)\n",
    "df_2018[\"Binary_Label\"] = df_2018[\"Label\"].apply(lambda x: 0 if x == \"Benign\" else 1)\n"
   ]
  },
  {
   "cell_type": "code",
   "execution_count": 35,
   "id": "27b40a45-45b2-440c-84a7-7d40c560530a",
   "metadata": {},
   "outputs": [],
   "source": [
    "\n",
    "column_mapping = {\n",
    "    # 2017 Columns               # 2018 Columns\n",
    "    'Destination Port':          'Dst Port',\n",
    "    'Total Fwd Packets':         'Tot Fwd Pkts',\n",
    "    'Total Backward Packets':    'Tot Bwd Pkts',\n",
    "    'Total Length of Fwd Packets': 'TotLen Fwd Pkts',\n",
    "    'Total Length of Bwd Packets': 'TotLen Bwd Pkts',\n",
    "    'Fwd Packet Length Max':     'Fwd Pkt Len Max',\n",
    "    'Fwd Packet Length Min':     'Fwd Pkt Len Min',\n",
    "    'Fwd Packet Length Mean':    'Fwd Pkt Len Mean',\n",
    "    'Fwd Packet Length Std':     'Fwd Pkt Len Std',\n",
    "    'Bwd Packet Length Max':     'Bwd Pkt Len Max',\n",
    "    'Bwd Packet Length Min':     'Bwd Pkt Len Min',\n",
    "    'Bwd Packet Length Mean':    'Bwd Pkt Len Mean',\n",
    "    'Bwd Packet Length Std':     'Bwd Pkt Len Std',\n",
    "    'Flow Bytes/s':              'Flow Byts/s',\n",
    "    'Flow Packets/s':            'Flow Pkts/s',\n",
    "    'Fwd Packets/s':             'Fwd Pkts/s',\n",
    "    'Bwd Packets/s':             'Bwd Pkts/s',\n",
    "    'Min Packet Length':         'Pkt Len Min',\n",
    "    'Max Packet Length':         'Pkt Len Max',\n",
    "    'Packet Length Mean':        'Pkt Len Mean',\n",
    "    'Packet Length Std':         'Pkt Len Std',\n",
    "    'Packet Length Variance':    'Pkt Len Var',\n",
    "    'FIN Flag Count':            'FIN Flag Cnt',\n",
    "    'SYN Flag Count':            'SYN Flag Cnt',\n",
    "    'RST Flag Count':            'RST Flag Cnt',\n",
    "    'PSH Flag Count':            'PSH Flag Cnt',\n",
    "    'ACK Flag Count':            'ACK Flag Cnt',\n",
    "    'URG Flag Count':            'URG Flag Cnt',\n",
    "    'CWE Flag Count':            'CWE Flag Count',\n",
    "    'ECE Flag Count':            'ECE Flag Cnt',\n",
    "    'Average Packet Size':       'Pkt Size Avg',\n",
    "    'Avg Fwd Segment Size':      'Fwd Seg Size Avg',\n",
    "    'Avg Bwd Segment Size':      'Bwd Seg Size Avg',\n",
    "    'Fwd Header Length.1':       'Fwd Header Len',\n",
    "    'Fwd Avg Bytes/Bulk':        'Fwd Byts/b Avg',\n",
    "    'Fwd Avg Packets/Bulk':      'Fwd Pkts/b Avg',\n",
    "    'Fwd Avg Bulk Rate':         'Fwd Blk Rate Avg',\n",
    "    'Bwd Avg Bytes/Bulk':        'Bwd Byts/b Avg',\n",
    "    'Bwd Avg Packets/Bulk':      'Bwd Pkts/b Avg',\n",
    "    'Bwd Avg Bulk Rate':         'Bwd Blk Rate Avg',\n",
    "    'Subflow Fwd Packets':       'Subflow Fwd Pkts',\n",
    "    'Subflow Fwd Bytes':         'Subflow Fwd Byts',\n",
    "    'Subflow Bwd Packets':       'Subflow Bwd Pkts',\n",
    "    'Subflow Bwd Bytes':         'Subflow Bwd Byts',\n",
    "    'Init_Win_bytes_forward':    'Init Fwd Win Byts',\n",
    "    'Init_Win_bytes_backward':   'Init Bwd Win Byts',\n",
    "    'act_data_pkt_fwd':          'Fwd Act Data Pkts',\n",
    "    'min_seg_size_forward':      'Fwd Seg Size Min'\n",
    "}\n",
    "\n",
    "# Rename 2017 columns to match 2018 naming convention\n",
    "df_2017 = df_2017.rename(columns=column_mapping)"
   ]
  },
  {
   "cell_type": "code",
   "execution_count": 58,
   "id": "3f8a82bf-7b4f-4a6a-a48a-69dc153e88a1",
   "metadata": {},
   "outputs": [],
   "source": [
    "df_2018.dropna(inplace=True)\n",
    "df_2017.dropna(inplace=True)\n",
    "\n",
    "\n",
    "\n"
   ]
  },
  {
   "cell_type": "code",
   "execution_count": 39,
   "id": "da125bd2-50e9-45b6-afd1-46150543a832",
   "metadata": {},
   "outputs": [
    {
     "name": "stdout",
     "output_type": "stream",
     "text": [
      "Remaining unique to 2017: set()\n",
      "Remaining unique to 2018: set()\n"
     ]
    }
   ],
   "source": [
    "# 1. Update column mapping\n",
    "column_mapping.update({\n",
    "    'Bwd IAT Total': 'Bwd IAT Tot',\n",
    "    'Fwd IAT Total': 'Fwd IAT Tot',\n",
    "    'Bwd Header Length': 'Bwd Header Len'\n",
    "})\n",
    "\n",
    "# 2. Rename 2017 columns\n",
    "df_2017 = df_2017.rename(columns=column_mapping)\n",
    "\n",
    "# 3. Drop columns that exist only in 2017 and couldn't be mapped\n",
    "df_2017 = df_2017.drop(columns=['Fwd Header Length'], errors='ignore')\n",
    "\n",
    "# 4. Verify no remaining mismatches\n",
    "unique_to_2017 = set(df_2017.columns) - set(df_2018.columns)\n",
    "unique_to_2018 = set(df_2018.columns) - set(df_2017.columns)\n",
    "\n",
    "print(\"Remaining unique to 2017:\", unique_to_2017)  # Should be empty\n",
    "print(\"Remaining unique to 2018:\", unique_to_2018)  # Should be empty"
   ]
  },
  {
   "cell_type": "code",
   "execution_count": 43,
   "id": "57f9211b-93d9-4fdb-a29f-8ec9f1aa9a7a",
   "metadata": {},
   "outputs": [],
   "source": [
    "merged_df = pd.concat([df_2017, df_2018], ignore_index=True)\n"
   ]
  },
  {
   "cell_type": "code",
   "execution_count": 51,
   "id": "be18eb82-3886-423b-a335-8395575b5c71",
   "metadata": {},
   "outputs": [],
   "source": [
    "# Shuffle the DataFrame while maintaining data integrity\n",
    "shuffled_df = merged_df.sample(frac=1, random_state=42).reset_index(drop=True)"
   ]
  },
  {
   "cell_type": "code",
   "execution_count": 53,
   "id": "314139e6-1b64-4c17-889d-52bb50f991f0",
   "metadata": {},
   "outputs": [],
   "source": [
    "shuffled_df['is_attack'] = shuffled_df['Label'].apply(\n",
    "    lambda x: 0 if x == 'Benign' else 1  # Encode directly as integers\n",
    ")"
   ]
  },
  {
   "cell_type": "code",
   "execution_count": 61,
   "id": "b2d769c7-882f-42fc-8a06-acd5c9217fce",
   "metadata": {},
   "outputs": [],
   "source": [
    "shuffled_df.to_csv(r\"C:\\Users\\hp\\Desktop\\TFG\\Datasets\\CIC_IDS_Merged.csv\", index=False)"
   ]
  }
 ],
 "metadata": {
  "kernelspec": {
   "display_name": "Python [conda env:base] *",
   "language": "python",
   "name": "conda-base-py"
  },
  "language_info": {
   "codemirror_mode": {
    "name": "ipython",
    "version": 3
   },
   "file_extension": ".py",
   "mimetype": "text/x-python",
   "name": "python",
   "nbconvert_exporter": "python",
   "pygments_lexer": "ipython3",
   "version": "3.12.7"
  }
 },
 "nbformat": 4,
 "nbformat_minor": 5
}
