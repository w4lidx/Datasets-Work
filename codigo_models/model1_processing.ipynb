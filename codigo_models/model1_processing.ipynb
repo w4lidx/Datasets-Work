{
 "cells": [
  {
   "cell_type": "code",
   "execution_count": 2,
   "id": "3132ca74-24f4-4d80-bbfc-0f71a0272e24",
   "metadata": {},
   "outputs": [],
   "source": [
    "import pandas as pd \n",
    "import numpy as np  \n",
    "import matplotlib.pyplot as plt  \n",
    "import seaborn as sns \n",
    "from sklearn.model_selection import train_test_split\n",
    "from sklearn.preprocessing import StandardScaler  \n",
    "# Import necessary metrics\n",
    "from sklearn.metrics import accuracy_score, precision_score, recall_score, f1_score, roc_auc_score, classification_report, confusion_matrix,roc_curve,auc,precision_recall_fscore_support\n",
    "# Import machine learning models\n",
    "from sklearn.ensemble import RandomForestClassifier\n",
    "from sklearn.linear_model import LogisticRegression\n",
    "from imblearn.over_sampling import SMOTE\n",
    "from imblearn.pipeline import Pipeline\n",
    "from xgboost import XGBClassifier\n",
    "import joblib\n",
    "import json\n",
    "import os\n",
    "from tensorflow.keras.models import Sequential\n",
    "from tensorflow.keras.layers import Dense, Dropout,BatchNormalization,Activation\n",
    "from tensorflow.keras.callbacks import EarlyStopping\n",
    "from scikeras.wrappers import KerasClassifier\n",
    "import tensorflow as tf\n",
    "import time\n",
    "from sklearn.metrics import ConfusionMatrixDisplay\n",
    "from xgboost import plot_importance"
   ]
  },
  {
   "cell_type": "code",
   "execution_count": 4,
   "id": "bb1b21dd-dfcf-4f9b-a9f0-c07c406341ce",
   "metadata": {},
   "outputs": [],
   "source": [
    "df = pd.read_csv(r\"C:\\Users\\hp\\Desktop\\TFG\\Datasets\\mergedDS.csv\")\n"
   ]
  },
  {
   "cell_type": "code",
   "execution_count": 7,
   "id": "7fcd9331-a5ff-4496-964e-ea5e53fd2ab9",
   "metadata": {},
   "outputs": [
    {
     "name": "stdout",
     "output_type": "stream",
     "text": [
      "Attack distribution for dur=0 rows:\n",
      " is_attack\n",
      "0    0.930393\n",
      "1    0.069607\n",
      "Name: proportion, dtype: float64\n"
     ]
    }
   ],
   "source": [
    "# Check attack labels for dur=0 rows\n",
    "dur_zero_attack_stats = df[df['dur'] == 0]['is_attack'].value_counts(normalize=True)\n",
    "print(\"Attack distribution for dur=0 rows:\\n\", dur_zero_attack_stats)"
   ]
  },
  {
   "cell_type": "code",
   "execution_count": 31,
   "id": "413bb662-778a-498a-a68d-ac4fa38d579c",
   "metadata": {},
   "outputs": [
    {
     "data": {
      "image/png": "[encoded data removed]",
      "text/plain": [
       "<Figure size 1000x600 with 1 Axes>"
      ]
     },
     "metadata": {},
     "output_type": "display_data"
    }
   ],
   "source": []
  },
  {
   "cell_type": "code",
   "execution_count": 6,
   "id": "bfaa2fa3-b697-4726-9600-51783223b7f4",
   "metadata": {},
   "outputs": [],
   "source": [
    "# Drop rows where dur=0 and is_attack=0 AND there is no traffic\n",
    "df = df[~((df['dur'] == 0) & (df['is_attack'] == 0) & \n",
    "          (df['sbytes'] + df['dbytes'] == 0) & (df['Spkts'] + df['Dpkts'] == 0))]\n",
    "\n",
    "# For attack rows (is_attack=1), set dur=1 microsecond\n",
    "df.loc[(df['dur'] == 0) & (df['is_attack'] == 1), 'dur'] = 1\n",
    "\n",
    "# Recalculate flow rates after fixing dur=0\n",
    "df['Flow Byts/s'] = (df['sbytes'] + df['dbytes']) / (df['dur'] / 1_000_000)\n",
    "df['Flow Pkts/s'] = (df['Spkts'] + df['Dpkts']) / (df['dur'] / 1_000_000)\n"
   ]
  },
  {
   "cell_type": "code",
   "execution_count": 8,
   "id": "97a55376-92df-4369-ba51-9208cfc98b54",
   "metadata": {},
   "outputs": [],
   "source": [
    "df.loc[(df['sbytes'] + df['dbytes'] == 0), 'Flow Byts/s'] = 0  \n",
    "df.loc[(df['Spkts'] + df['Dpkts'] == 0), 'Flow Pkts/s'] = 0    \n"
   ]
  },
  {
   "cell_type": "code",
   "execution_count": 10,
   "id": "61585ccd-99d5-4e65-b561-c68bd9fab408",
   "metadata": {},
   "outputs": [],
   "source": [
    "# Replace infinite values with a high value\n",
    "df.replace([np.inf, -np.inf], 1_000_000, inplace=True)"
   ]
  },
  {
   "cell_type": "code",
   "execution_count": 19,
   "id": "60dbd4fe-6570-41fd-9147-c9c1101e1f77",
   "metadata": {},
   "outputs": [
    {
     "data": {
      "text/plain": [
       "0"
      ]
     },
     "execution_count": 19,
     "metadata": {},
     "output_type": "execute_result"
    }
   ],
   "source": [
    "df.isna().sum().sum()"
   ]
  },
  {
   "cell_type": "code",
   "execution_count": 14,
   "id": "3ca9a2db-4f01-4cae-9841-2ece8967e5b7",
   "metadata": {},
   "outputs": [
    {
     "name": "stdout",
     "output_type": "stream",
     "text": [
      "5524424\n"
     ]
    }
   ],
   "source": [
    "negative_values = (df < 0).sum().sum()\n",
    "print(negative_values)"
   ]
  },
  {
   "cell_type": "code",
   "execution_count": 16,
   "id": "3cf948b1-3c7c-45b3-8cbe-964eaefe6fd3",
   "metadata": {},
   "outputs": [
    {
     "name": "stdout",
     "output_type": "stream",
     "text": [
      "Negative 'dur' in attacks: 0\n"
     ]
    }
   ],
   "source": [
    "# Corrected code to filter negative 'dur' values and 'is_attack' == 1\n",
    "print(\"Negative 'dur' in attacks:\", df[(df['dur'] < 0) & (df['is_attack'] == 1)].shape[0])\n"
   ]
  },
  {
   "cell_type": "code",
   "execution_count": 18,
   "id": "29da479e-95b9-45da-98d7-bd668e31882a",
   "metadata": {},
   "outputs": [
    {
     "name": "stdout",
     "output_type": "stream",
     "text": [
      "Removed 105 rows with negative 'dur'\n"
     ]
    }
   ],
   "source": [
    "# Keep only rows where dur >= 0\n",
    "original_size = len(df)\n",
    "df = df[df['dur'] >= 0]\n",
    "print(f\"Removed {original_size - len(df)} rows with negative 'dur'\")"
   ]
  },
  {
   "cell_type": "code",
   "execution_count": 77,
   "id": "6ccb2121-93fc-4682-9a29-c5a2f1acb1ea",
   "metadata": {},
   "outputs": [
    {
     "name": "stdout",
     "output_type": "stream",
     "text": [
      "Counts of each negative 'swin' value:\n",
      "swin\n",
      "-1        1925388\n",
      " 32738     522263\n",
      " 256       143858\n",
      " 2052      127835\n",
      " 279        82677\n",
      "           ...   \n",
      " 33226          1\n",
      " 7395           1\n",
      " 39995          1\n",
      " 31551          1\n",
      " 65524          1\n",
      "Name: count, Length: 10473, dtype: int64\n"
     ]
    }
   ],
   "source": [
    "X_train_modified = X_train.copy()\n",
    "X_train_modified[\"swin_-1_flag\"] = (X_train[\"swin\"] == -1).astype(int)\n",
    "X_train_modified[\"dwin_-1_flag\"] = (X_train[\"dwin\"] == -1).astype(int)\n",
    "\n",
    "# Replace -1 with 0 and apply log1p\n",
    "X_train_modified[\"swin\"] = np.log1p(X_train[\"swin\"].replace(-1, 0))\n",
    "X_train_modified[\"dwin\"] = np.log1p(X_train[\"dwin\"].replace(-1, 0))\n",
    "\n",
    "# Repeat for test data\n",
    "X_test_modified = X_test.copy()\n",
    "X_test_modified[\"swin_-1_flag\"] = (X_test[\"swin\"] == -1).astype(int)\n",
    "X_test_modified[\"dwin_-1_flag\"] = (X_test[\"dwin\"] == -1).astype(int)\n",
    "X_test_modified[\"swin\"] = np.log1p(X_test[\"swin\"].replace(-1, 0))\n",
    "X_test_modified[\"dwin\"] = np.log1p(X_test[\"dwin\"].replace(-1, 0))"
   ]
  },
  {
   "cell_type": "code",
   "execution_count": 9,
   "id": "4117ae6a-135d-4cf2-b8c3-7b0d6a8eeb6b",
   "metadata": {},
   "outputs": [],
   "source": [
    "# 1. Drop Low-Importance Features \n",
    "features_to_drop = ['Djit', 'Sjit']\n",
    "merged_df = merged_df.drop(columns=features_to_drop)\n",
    "\n",
    "#2. Redefine X and y \n",
    "#X = df_reduced.drop(columns=['is_attack'])  # Assuming 'is_attack' is your target column\n",
    "#y = df_reduced['is_attack']\n"
   ]
  },
  {
   "cell_type": "code",
   "execution_count": 20,
   "id": "8e50d885-1ea5-466e-a69e-7cdbebaa9140",
   "metadata": {},
   "outputs": [],
   "source": [
    "# 1. Split data\n",
    "X = df.drop('is_attack', axis=1)\n",
    "y = df['is_attack']\n",
    "\n",
    "X_train, X_test, y_train, y_test = train_test_split(\n",
    "    X, y,\n",
    "    test_size=0.2,\n",
    "    stratify=y,\n",
    "    random_state=42\n",
    ")\n"
   ]
  },
  {
   "cell_type": "code",
   "execution_count": null,
   "id": "9691c3f4-ad32-4dd6-8cde-63b3a87f2c02",
   "metadata": {},
   "outputs": [],
   "source": [
    "# FOR LOG TRANSFORMATION\n",
    "X_train_modified = X_train.copy()\n",
    "X_train_modified[\"swin_-1_flag\"] = (X_train[\"swin\"] == -1).astype(int)\n",
    "X_train_modified[\"dwin_-1_flag\"] = (X_train[\"dwin\"] == -1).astype(int)\n",
    "\n",
    "# Replace -1 with 0 and apply log1p\n",
    "X_train_modified[\"swin\"] = np.log1p(X_train[\"swin\"].replace(-1, 0))\n",
    "X_train_modified[\"dwin\"] = np.log1p(X_train[\"dwin\"].replace(-1, 0))\n",
    "\n",
    "# Repeat for test data\n",
    "X_test_modified = X_test.copy()\n",
    "X_test_modified[\"swin_-1_flag\"] = (X_test[\"swin\"] == -1).astype(int)\n",
    "X_test_modified[\"dwin_-1_flag\"] = (X_test[\"dwin\"] == -1).astype(int)\n",
    "X_test_modified[\"swin\"] = np.log1p(X_test[\"swin\"].replace(-1, 0))\n",
    "X_test_modified[\"dwin\"] = np.log1p(X_test[\"dwin\"].replace(-1, 0))\n",
    "scaler = StandardScaler()\n",
    "X_train_scaled = scaler.fit_transform(X_train_modified)\n",
    "X_test_scaled = scaler.transform(X_test_modified)"
   ]
  },
  {
   "cell_type": "code",
   "execution_count": 29,
   "id": "d1839605-98fa-4866-9c7c-ba73352823d5",
   "metadata": {},
   "outputs": [],
   "source": [
    "# 2. Scale only for Neural Network and Logistic Regression no LOG\n",
    "scaler = StandardScaler()\n",
    "X_train_scaled = scaler.fit_transform(X_train)\n",
    "X_test_scaled = scaler.transform(X_test)"
   ]
  },
  {
   "cell_type": "code",
   "execution_count": 31,
   "id": "10fbe35b-2bc1-40c3-afb6-7f5b405b6433",
   "metadata": {},
   "outputs": [
    {
     "name": "stderr",
     "output_type": "stream",
     "text": [
      "C:\\Users\\hp\\anaconda3\\Lib\\site-packages\\keras\\src\\layers\\core\\dense.py:87: UserWarning: Do not pass an `input_shape`/`input_dim` argument to a layer. When using Sequential models, prefer using an `Input(shape)` object as the first layer in the model instead.\n",
      "  super().__init__(activity_regularizer=activity_regularizer, **kwargs)\n"
     ]
    },
    {
     "data": {
      "image/png": "[encoded data removed]",
      "text/plain": [
       "<Figure size 1000x500 with 1 Axes>"
      ]
     },
     "metadata": {},
     "output_type": "display_data"
    },
    {
     "ename": "KeyError",
     "evalue": "\"None of [Index(['precision', 'val_precision'], dtype='object')] are in the [columns]\"",
     "output_type": "error",
     "traceback": [
      "\u001b[1;31m---------------------------------------------------------------------------\u001b[0m",
      "\u001b[1;31mKeyError\u001b[0m                                  Traceback (most recent call last)",
      "Cell \u001b[1;32mIn[31], line 64\u001b[0m\n\u001b[0;32m     61\u001b[0m plt\u001b[38;5;241m.\u001b[39mtitle(\u001b[38;5;124m'\u001b[39m\u001b[38;5;124mTraining vs Validation Loss\u001b[39m\u001b[38;5;124m'\u001b[39m)\n\u001b[0;32m     62\u001b[0m plt\u001b[38;5;241m.\u001b[39mshow()\n\u001b[1;32m---> 64\u001b[0m pd\u001b[38;5;241m.\u001b[39mDataFrame(history\u001b[38;5;241m.\u001b[39mhistory)[[\u001b[38;5;124m'\u001b[39m\u001b[38;5;124mprecision\u001b[39m\u001b[38;5;124m'\u001b[39m, \u001b[38;5;124m'\u001b[39m\u001b[38;5;124mval_precision\u001b[39m\u001b[38;5;124m'\u001b[39m]]\u001b[38;5;241m.\u001b[39mplot(figsize\u001b[38;5;241m=\u001b[39m(\u001b[38;5;241m10\u001b[39m,\u001b[38;5;241m5\u001b[39m))\n\u001b[0;32m     65\u001b[0m plt\u001b[38;5;241m.\u001b[39mtitle(\u001b[38;5;124m'\u001b[39m\u001b[38;5;124mTraining vs Validation Precision\u001b[39m\u001b[38;5;124m'\u001b[39m)\n\u001b[0;32m     66\u001b[0m plt\u001b[38;5;241m.\u001b[39mshow()\n",
      "File \u001b[1;32m~\\anaconda3\\Lib\\site-packages\\pandas\\core\\frame.py:4108\u001b[0m, in \u001b[0;36mDataFrame.__getitem__\u001b[1;34m(self, key)\u001b[0m\n\u001b[0;32m   4106\u001b[0m     \u001b[38;5;28;01mif\u001b[39;00m is_iterator(key):\n\u001b[0;32m   4107\u001b[0m         key \u001b[38;5;241m=\u001b[39m \u001b[38;5;28mlist\u001b[39m(key)\n\u001b[1;32m-> 4108\u001b[0m     indexer \u001b[38;5;241m=\u001b[39m \u001b[38;5;28mself\u001b[39m\u001b[38;5;241m.\u001b[39mcolumns\u001b[38;5;241m.\u001b[39m_get_indexer_strict(key, \u001b[38;5;124m\"\u001b[39m\u001b[38;5;124mcolumns\u001b[39m\u001b[38;5;124m\"\u001b[39m)[\u001b[38;5;241m1\u001b[39m]\n\u001b[0;32m   4110\u001b[0m \u001b[38;5;66;03m# take() does not accept boolean indexers\u001b[39;00m\n\u001b[0;32m   4111\u001b[0m \u001b[38;5;28;01mif\u001b[39;00m \u001b[38;5;28mgetattr\u001b[39m(indexer, \u001b[38;5;124m\"\u001b[39m\u001b[38;5;124mdtype\u001b[39m\u001b[38;5;124m\"\u001b[39m, \u001b[38;5;28;01mNone\u001b[39;00m) \u001b[38;5;241m==\u001b[39m \u001b[38;5;28mbool\u001b[39m:\n",
      "File \u001b[1;32m~\\anaconda3\\Lib\\site-packages\\pandas\\core\\indexes\\base.py:6200\u001b[0m, in \u001b[0;36mIndex._get_indexer_strict\u001b[1;34m(self, key, axis_name)\u001b[0m\n\u001b[0;32m   6197\u001b[0m \u001b[38;5;28;01melse\u001b[39;00m:\n\u001b[0;32m   6198\u001b[0m     keyarr, indexer, new_indexer \u001b[38;5;241m=\u001b[39m \u001b[38;5;28mself\u001b[39m\u001b[38;5;241m.\u001b[39m_reindex_non_unique(keyarr)\n\u001b[1;32m-> 6200\u001b[0m \u001b[38;5;28mself\u001b[39m\u001b[38;5;241m.\u001b[39m_raise_if_missing(keyarr, indexer, axis_name)\n\u001b[0;32m   6202\u001b[0m keyarr \u001b[38;5;241m=\u001b[39m \u001b[38;5;28mself\u001b[39m\u001b[38;5;241m.\u001b[39mtake(indexer)\n\u001b[0;32m   6203\u001b[0m \u001b[38;5;28;01mif\u001b[39;00m \u001b[38;5;28misinstance\u001b[39m(key, Index):\n\u001b[0;32m   6204\u001b[0m     \u001b[38;5;66;03m# GH 42790 - Preserve name from an Index\u001b[39;00m\n",
      "File \u001b[1;32m~\\anaconda3\\Lib\\site-packages\\pandas\\core\\indexes\\base.py:6249\u001b[0m, in \u001b[0;36mIndex._raise_if_missing\u001b[1;34m(self, key, indexer, axis_name)\u001b[0m\n\u001b[0;32m   6247\u001b[0m \u001b[38;5;28;01mif\u001b[39;00m nmissing:\n\u001b[0;32m   6248\u001b[0m     \u001b[38;5;28;01mif\u001b[39;00m nmissing \u001b[38;5;241m==\u001b[39m \u001b[38;5;28mlen\u001b[39m(indexer):\n\u001b[1;32m-> 6249\u001b[0m         \u001b[38;5;28;01mraise\u001b[39;00m \u001b[38;5;167;01mKeyError\u001b[39;00m(\u001b[38;5;124mf\u001b[39m\u001b[38;5;124m\"\u001b[39m\u001b[38;5;124mNone of [\u001b[39m\u001b[38;5;132;01m{\u001b[39;00mkey\u001b[38;5;132;01m}\u001b[39;00m\u001b[38;5;124m] are in the [\u001b[39m\u001b[38;5;132;01m{\u001b[39;00maxis_name\u001b[38;5;132;01m}\u001b[39;00m\u001b[38;5;124m]\u001b[39m\u001b[38;5;124m\"\u001b[39m)\n\u001b[0;32m   6251\u001b[0m     not_found \u001b[38;5;241m=\u001b[39m \u001b[38;5;28mlist\u001b[39m(ensure_index(key)[missing_mask\u001b[38;5;241m.\u001b[39mnonzero()[\u001b[38;5;241m0\u001b[39m]]\u001b[38;5;241m.\u001b[39munique())\n\u001b[0;32m   6252\u001b[0m     \u001b[38;5;28;01mraise\u001b[39;00m \u001b[38;5;167;01mKeyError\u001b[39;00m(\u001b[38;5;124mf\u001b[39m\u001b[38;5;124m\"\u001b[39m\u001b[38;5;132;01m{\u001b[39;00mnot_found\u001b[38;5;132;01m}\u001b[39;00m\u001b[38;5;124m not in index\u001b[39m\u001b[38;5;124m\"\u001b[39m)\n",
      "\u001b[1;31mKeyError\u001b[0m: \"None of [Index(['precision', 'val_precision'], dtype='object')] are in the [columns]\""
     ]
    }
   ],
   "source": [
    "from tensorflow.keras.callbacks import EarlyStopping\n",
    "from sklearn.model_selection import train_test_split\n",
    "import matplotlib.pyplot as plt\n",
    "import pandas as pd\n",
    "from sklearn.metrics import classification_report, roc_auc_score\n",
    "import time\n",
    "\n",
    "# Split training data to get validation set (only change needed for validation)\n",
    "X_train_split, X_val, y_train_split, y_val = train_test_split(\n",
    "    X_train_scaled, y_train, \n",
    "    test_size=0.2, \n",
    "    random_state=42,\n",
    "    stratify=y_train\n",
    ")\n",
    "\n",
    "# original neural net builder\n",
    "def create_nn():\n",
    "    model = Sequential([\n",
    "        Dense(256, activation='relu', input_shape=(X_train.shape[1],)),\n",
    "        Dropout(0.3),\n",
    "        Dense(128, activation='relu'),\n",
    "        Dropout(0.3),\n",
    "        Dense(64, activation='relu'),\n",
    "        Dense(1, activation='sigmoid')\n",
    "    ])\n",
    "    model.compile(\n",
    "        optimizer='adam',\n",
    "        loss='binary_crossentropy',\n",
    "        metrics=['accuracy', tf.keras.metrics.Precision(), tf.keras.metrics.Recall()]\n",
    "    )\n",
    "    return model\n",
    "\n",
    "# early stopping (now monitors val_loss)\n",
    "early_stop = EarlyStopping(monitor='val_loss', patience=3) \n",
    "\n",
    "temp_model = create_nn()\n",
    "history = temp_model.fit(\n",
    "    X_train_split, y_train_split,\n",
    "    validation_data=(X_val, y_val),\n",
    "    epochs=50,\n",
    "    batch_size=1024,\n",
    "    class_weight=weights,\n",
    "    callbacks=[early_stop],\n",
    "    verbose=0\n",
    ")\n",
    "\n",
    "nn_classifier = KerasClassifier(\n",
    "    build_fn=create_nn,\n",
    "    epochs=1,  # Set to 1 since we already trained\n",
    "    batch_size=1024,\n",
    "    verbose=0,\n",
    "    class_weight=weights,\n",
    "    callbacks=[early_stop]\n",
    ")\n",
    "nn_classifier.model = temp_model  # Use our pre-trained model\n",
    "\n",
    "# Plot curves from the history\n",
    "pd.DataFrame(history.history)[['loss', 'val_loss']].plot(figsize=(10,5))\n",
    "plt.title('Training vs Validation Loss')\n",
    "plt.show()\n",
    "\n",
    "pd.DataFrame(history.history)[['precision', 'val_precision']].plot(figsize=(10,5))\n",
    "plt.title('Training vs Validation Precision')\n",
    "plt.show()\n",
    "\n",
    "# Evaluation metrics\n",
    "print(\"\\n=== Training Neural Network ===\")\n",
    "start = time.time()\n",
    "y_pred = nn_classifier.predict(X_test_scaled)\n",
    "end = time.time()\n",
    "\n",
    "total_time = end - start\n",
    "avg_time_per_sample = total_time / X_test_scaled.shape[0]\n",
    "print(f\"Inference time (total): {total_time:.4f} seconds\")\n",
    "print(f\"Inference time per sample: {avg_time_per_sample:.6f} seconds\")\n",
    "\n",
    "y_proba = nn_classifier.predict_proba(X_test_scaled)[:, 1]\n",
    "print(classification_report(y_test, y_pred, target_names=['Benign', 'Attack']))\n",
    "print(f\"ROC-AUC: {roc_auc_score(y_test, y_proba):.4f}\")"
   ]
  },
  {
   "cell_type": "code",
   "execution_count": 31,
   "id": "9344eb5a-2551-4880-bc1b-6d52c3f9afcd",
   "metadata": {},
   "outputs": [
    {
     "name": "stderr",
     "output_type": "stream",
     "text": [
      "C:\\Users\\hp\\anaconda3\\Lib\\site-packages\\scikeras\\wrappers.py:925: UserWarning: ``build_fn`` will be renamed to ``model`` in a future release, at which point use of ``build_fn`` will raise an Error instead.\n",
      "  X, y = self._initialize(X, y)\n",
      "C:\\Users\\hp\\anaconda3\\Lib\\site-packages\\keras\\src\\layers\\core\\dense.py:87: UserWarning: Do not pass an `input_shape`/`input_dim` argument to a layer. When using Sequential models, prefer using an `Input(shape)` object as the first layer in the model instead.\n",
      "  super().__init__(activity_regularizer=activity_regularizer, **kwargs)\n"
     ]
    },
    {
     "name": "stdout",
     "output_type": "stream",
     "text": [
      "Epoch 1/50\n",
      "\u001b[1m7771/7771\u001b[0m \u001b[32m━━━━━━━━━━━━━━━━━━━━\u001b[0m\u001b[37m\u001b[0m \u001b[1m38s\u001b[0m 5ms/step - accuracy: 0.9402 - loss: 0.3010 - precision: 0.8682 - recall: 0.8942\n",
      "Epoch 2/50\n"
     ]
    },
    {
     "name": "stderr",
     "output_type": "stream",
     "text": [
      "C:\\Users\\hp\\anaconda3\\Lib\\site-packages\\keras\\src\\callbacks\\early_stopping.py:153: UserWarning: Early stopping conditioned on metric `val_loss` which is not available. Available metrics are: accuracy,loss,precision,recall\n",
      "  current = self.get_monitor_value(logs)\n"
     ]
    },
    {
     "name": "stdout",
     "output_type": "stream",
     "text": [
      "\u001b[1m7771/7771\u001b[0m \u001b[32m━━━━━━━━━━━━━━━━━━━━\u001b[0m\u001b[37m\u001b[0m \u001b[1m36s\u001b[0m 5ms/step - accuracy: 0.9598 - loss: 0.2192 - precision: 0.9168 - recall: 0.9201\n",
      "Epoch 3/50\n",
      "\u001b[1m7771/7771\u001b[0m \u001b[32m━━━━━━━━━━━━━━━━━━━━\u001b[0m\u001b[37m\u001b[0m \u001b[1m37s\u001b[0m 5ms/step - accuracy: 0.9628 - loss: 0.2051 - precision: 0.9231 - recall: 0.9259\n",
      "Epoch 4/50\n",
      "\u001b[1m7771/7771\u001b[0m \u001b[32m━━━━━━━━━━━━━━━━━━━━\u001b[0m\u001b[37m\u001b[0m \u001b[1m37s\u001b[0m 5ms/step - accuracy: 0.9635 - loss: 0.1992 - precision: 0.9232 - recall: 0.9293\n",
      "Epoch 5/50\n",
      "\u001b[1m7771/7771\u001b[0m \u001b[32m━━━━━━━━━━━━━━━━━━━━\u001b[0m\u001b[37m\u001b[0m \u001b[1m38s\u001b[0m 5ms/step - accuracy: 0.9639 - loss: 0.1953 - precision: 0.9234 - recall: 0.9308\n",
      "Epoch 6/50\n",
      "\u001b[1m7771/7771\u001b[0m \u001b[32m━━━━━━━━━━━━━━━━━━━━\u001b[0m\u001b[37m\u001b[0m \u001b[1m38s\u001b[0m 5ms/step - accuracy: 0.9646 - loss: 0.1916 - precision: 0.9242 - recall: 0.9325\n",
      "Epoch 7/50\n",
      "\u001b[1m7771/7771\u001b[0m \u001b[32m━━━━━━━━━━━━━━━━━━━━\u001b[0m\u001b[37m\u001b[0m \u001b[1m38s\u001b[0m 5ms/step - accuracy: 0.9648 - loss: 0.1894 - precision: 0.9241 - recall: 0.9341\n",
      "Epoch 8/50\n",
      "\u001b[1m7771/7771\u001b[0m \u001b[32m━━━━━━━━━━━━━━━━━━━━\u001b[0m\u001b[37m\u001b[0m \u001b[1m38s\u001b[0m 5ms/step - accuracy: 0.9651 - loss: 0.1869 - precision: 0.9244 - recall: 0.9348\n",
      "Epoch 9/50\n",
      "\u001b[1m7771/7771\u001b[0m \u001b[32m━━━━━━━━━━━━━━━━━━━━\u001b[0m\u001b[37m\u001b[0m \u001b[1m38s\u001b[0m 5ms/step - accuracy: 0.9657 - loss: 0.1852 - precision: 0.9259 - recall: 0.9353\n",
      "Epoch 10/50\n",
      "\u001b[1m7771/7771\u001b[0m \u001b[32m━━━━━━━━━━━━━━━━━━━━\u001b[0m\u001b[37m\u001b[0m \u001b[1m39s\u001b[0m 5ms/step - accuracy: 0.9666 - loss: 0.1829 - precision: 0.9294 - recall: 0.9354\n",
      "Epoch 11/50\n",
      "\u001b[1m7771/7771\u001b[0m \u001b[32m━━━━━━━━━━━━━━━━━━━━\u001b[0m\u001b[37m\u001b[0m \u001b[1m39s\u001b[0m 5ms/step - accuracy: 0.9676 - loss: 0.1804 - precision: 0.9330 - recall: 0.9355\n",
      "Epoch 12/50\n",
      "\u001b[1m7771/7771\u001b[0m \u001b[32m━━━━━━━━━━━━━━━━━━━━\u001b[0m\u001b[37m\u001b[0m \u001b[1m40s\u001b[0m 5ms/step - accuracy: 0.9681 - loss: 0.1796 - precision: 0.9345 - recall: 0.9358\n",
      "Epoch 13/50\n",
      "\u001b[1m7771/7771\u001b[0m \u001b[32m━━━━━━━━━━━━━━━━━━━━\u001b[0m\u001b[37m\u001b[0m \u001b[1m39s\u001b[0m 5ms/step - accuracy: 0.9683 - loss: 0.1784 - precision: 0.9351 - recall: 0.9362\n",
      "Epoch 14/50\n",
      "\u001b[1m7771/7771\u001b[0m \u001b[32m━━━━━━━━━━━━━━━━━━━━\u001b[0m\u001b[37m\u001b[0m \u001b[1m39s\u001b[0m 5ms/step - accuracy: 0.9685 - loss: 0.1779 - precision: 0.9359 - recall: 0.9364\n",
      "Epoch 15/50\n",
      "\u001b[1m7771/7771\u001b[0m \u001b[32m━━━━━━━━━━━━━━━━━━━━\u001b[0m\u001b[37m\u001b[0m \u001b[1m39s\u001b[0m 5ms/step - accuracy: 0.9687 - loss: 0.1767 - precision: 0.9360 - recall: 0.9368\n",
      "Epoch 16/50\n",
      "\u001b[1m7771/7771\u001b[0m \u001b[32m━━━━━━━━━━━━━━━━━━━━\u001b[0m\u001b[37m\u001b[0m \u001b[1m40s\u001b[0m 5ms/step - accuracy: 0.9688 - loss: 0.1766 - precision: 0.9369 - recall: 0.9364\n",
      "Epoch 17/50\n",
      "\u001b[1m7771/7771\u001b[0m \u001b[32m━━━━━━━━━━━━━━━━━━━━\u001b[0m\u001b[37m\u001b[0m \u001b[1m40s\u001b[0m 5ms/step - accuracy: 0.9691 - loss: 0.1753 - precision: 0.9376 - recall: 0.9368\n",
      "Epoch 18/50\n",
      "\u001b[1m7771/7771\u001b[0m \u001b[32m━━━━━━━━━━━━━━━━━━━━\u001b[0m\u001b[37m\u001b[0m \u001b[1m39s\u001b[0m 5ms/step - accuracy: 0.9689 - loss: 0.1755 - precision: 0.9365 - recall: 0.9371\n",
      "Epoch 19/50\n",
      "\u001b[1m7771/7771\u001b[0m \u001b[32m━━━━━━━━━━━━━━━━━━━━\u001b[0m\u001b[37m\u001b[0m \u001b[1m40s\u001b[0m 5ms/step - accuracy: 0.9690 - loss: 0.1751 - precision: 0.9370 - recall: 0.9371\n",
      "Epoch 20/50\n",
      "\u001b[1m7771/7771\u001b[0m \u001b[32m━━━━━━━━━━━━━━━━━━━━\u001b[0m\u001b[37m\u001b[0m \u001b[1m40s\u001b[0m 5ms/step - accuracy: 0.9686 - loss: 0.1762 - precision: 0.9358 - recall: 0.9369\n",
      "Epoch 21/50\n",
      "\u001b[1m7771/7771\u001b[0m \u001b[32m━━━━━━━━━━━━━━━━━━━━\u001b[0m\u001b[37m\u001b[0m \u001b[1m40s\u001b[0m 5ms/step - accuracy: 0.9682 - loss: 0.1768 - precision: 0.9341 - recall: 0.9369\n",
      "Epoch 22/50\n",
      "\u001b[1m7771/7771\u001b[0m \u001b[32m━━━━━━━━━━━━━━━━━━━━\u001b[0m\u001b[37m\u001b[0m \u001b[1m40s\u001b[0m 5ms/step - accuracy: 0.9683 - loss: 0.1764 - precision: 0.9347 - recall: 0.9365\n",
      "Epoch 23/50\n",
      "\u001b[1m7771/7771\u001b[0m \u001b[32m━━━━━━━━━━━━━━━━━━━━\u001b[0m\u001b[37m\u001b[0m \u001b[1m40s\u001b[0m 5ms/step - accuracy: 0.9690 - loss: 0.1749 - precision: 0.9372 - recall: 0.9369\n",
      "Epoch 24/50\n",
      "\u001b[1m7771/7771\u001b[0m \u001b[32m━━━━━━━━━━━━━━━━━━━━\u001b[0m\u001b[37m\u001b[0m \u001b[1m40s\u001b[0m 5ms/step - accuracy: 0.9688 - loss: 0.1744 - precision: 0.9359 - recall: 0.9373\n",
      "Epoch 25/50\n",
      "\u001b[1m7771/7771\u001b[0m \u001b[32m━━━━━━━━━━━━━━━━━━━━\u001b[0m\u001b[37m\u001b[0m \u001b[1m40s\u001b[0m 5ms/step - accuracy: 0.9694 - loss: 0.1733 - precision: 0.9383 - recall: 0.9374\n",
      "Epoch 26/50\n",
      "\u001b[1m7771/7771\u001b[0m \u001b[32m━━━━━━━━━━━━━━━━━━━━\u001b[0m\u001b[37m\u001b[0m \u001b[1m40s\u001b[0m 5ms/step - accuracy: 0.9693 - loss: 0.1734 - precision: 0.9376 - recall: 0.9376\n",
      "Epoch 27/50\n",
      "\u001b[1m7771/7771\u001b[0m \u001b[32m━━━━━━━━━━━━━━━━━━━━\u001b[0m\u001b[37m\u001b[0m \u001b[1m40s\u001b[0m 5ms/step - accuracy: 0.9695 - loss: 0.1728 - precision: 0.9384 - recall: 0.9377\n",
      "Epoch 28/50\n",
      "\u001b[1m7771/7771\u001b[0m \u001b[32m━━━━━━━━━━━━━━━━━━━━\u001b[0m\u001b[37m\u001b[0m \u001b[1m41s\u001b[0m 5ms/step - accuracy: 0.9694 - loss: 0.1729 - precision: 0.9379 - recall: 0.9377\n",
      "Epoch 29/50\n",
      "\u001b[1m7771/7771\u001b[0m \u001b[32m━━━━━━━━━━━━━━━━━━━━\u001b[0m\u001b[37m\u001b[0m \u001b[1m46s\u001b[0m 6ms/step - accuracy: 0.9697 - loss: 0.1719 - precision: 0.9390 - recall: 0.9380\n",
      "Epoch 30/50\n",
      "\u001b[1m7771/7771\u001b[0m \u001b[32m━━━━━━━━━━━━━━━━━━━━\u001b[0m\u001b[37m\u001b[0m \u001b[1m44s\u001b[0m 6ms/step - accuracy: 0.9698 - loss: 0.1722 - precision: 0.9394 - recall: 0.9376\n",
      "Epoch 31/50\n",
      "\u001b[1m7771/7771\u001b[0m \u001b[32m━━━━━━━━━━━━━━━━━━━━\u001b[0m\u001b[37m\u001b[0m \u001b[1m40s\u001b[0m 5ms/step - accuracy: 0.9699 - loss: 0.1716 - precision: 0.9400 - recall: 0.9375\n",
      "Epoch 32/50\n",
      "\u001b[1m7771/7771\u001b[0m \u001b[32m━━━━━━━━━━━━━━━━━━━━\u001b[0m\u001b[37m\u001b[0m \u001b[1m41s\u001b[0m 5ms/step - accuracy: 0.9697 - loss: 0.1715 - precision: 0.9389 - recall: 0.9379\n",
      "Epoch 33/50\n",
      "\u001b[1m7771/7771\u001b[0m \u001b[32m━━━━━━━━━━━━━━━━━━━━\u001b[0m\u001b[37m\u001b[0m \u001b[1m41s\u001b[0m 5ms/step - accuracy: 0.9691 - loss: 0.1731 - precision: 0.9366 - recall: 0.9379\n",
      "Epoch 34/50\n",
      "\u001b[1m7771/7771\u001b[0m \u001b[32m━━━━━━━━━━━━━━━━━━━━\u001b[0m\u001b[37m\u001b[0m \u001b[1m40s\u001b[0m 5ms/step - accuracy: 0.9702 - loss: 0.1709 - precision: 0.9408 - recall: 0.9378\n",
      "Epoch 35/50\n",
      "\u001b[1m7771/7771\u001b[0m \u001b[32m━━━━━━━━━━━━━━━━━━━━\u001b[0m\u001b[37m\u001b[0m \u001b[1m41s\u001b[0m 5ms/step - accuracy: 0.9700 - loss: 0.1705 - precision: 0.9398 - recall: 0.9381\n",
      "Epoch 36/50\n",
      "\u001b[1m7771/7771\u001b[0m \u001b[32m━━━━━━━━━━━━━━━━━━━━\u001b[0m\u001b[37m\u001b[0m \u001b[1m40s\u001b[0m 5ms/step - accuracy: 0.9696 - loss: 0.1721 - precision: 0.9385 - recall: 0.9378\n",
      "Epoch 37/50\n",
      "\u001b[1m7771/7771\u001b[0m \u001b[32m━━━━━━━━━━━━━━━━━━━━\u001b[0m\u001b[37m\u001b[0m \u001b[1m41s\u001b[0m 5ms/step - accuracy: 0.9695 - loss: 0.1717 - precision: 0.9384 - recall: 0.9379\n",
      "Epoch 38/50\n",
      "\u001b[1m7771/7771\u001b[0m \u001b[32m━━━━━━━━━━━━━━━━━━━━\u001b[0m\u001b[37m\u001b[0m \u001b[1m41s\u001b[0m 5ms/step - accuracy: 0.9694 - loss: 0.1711 - precision: 0.9379 - recall: 0.9378\n",
      "Epoch 39/50\n",
      "\u001b[1m7771/7771\u001b[0m \u001b[32m━━━━━━━━━━━━━━━━━━━━\u001b[0m\u001b[37m\u001b[0m \u001b[1m41s\u001b[0m 5ms/step - accuracy: 0.9698 - loss: 0.1704 - precision: 0.9393 - recall: 0.9381\n",
      "Epoch 40/50\n",
      "\u001b[1m7771/7771\u001b[0m \u001b[32m━━━━━━━━━━━━━━━━━━━━\u001b[0m\u001b[37m\u001b[0m \u001b[1m41s\u001b[0m 5ms/step - accuracy: 0.9693 - loss: 0.1715 - precision: 0.9373 - recall: 0.9382\n",
      "Epoch 41/50\n",
      "\u001b[1m7771/7771\u001b[0m \u001b[32m━━━━━━━━━━━━━━━━━━━━\u001b[0m\u001b[37m\u001b[0m \u001b[1m41s\u001b[0m 5ms/step - accuracy: 0.9694 - loss: 0.1710 - precision: 0.9376 - recall: 0.9380\n",
      "Epoch 42/50\n",
      "\u001b[1m7771/7771\u001b[0m \u001b[32m━━━━━━━━━━━━━━━━━━━━\u001b[0m\u001b[37m\u001b[0m \u001b[1m41s\u001b[0m 5ms/step - accuracy: 0.9697 - loss: 0.1703 - precision: 0.9388 - recall: 0.9380\n",
      "Epoch 43/50\n",
      "\u001b[1m7771/7771\u001b[0m \u001b[32m━━━━━━━━━━━━━━━━━━━━\u001b[0m\u001b[37m\u001b[0m \u001b[1m41s\u001b[0m 5ms/step - accuracy: 0.9699 - loss: 0.1709 - precision: 0.9395 - recall: 0.9379\n",
      "Epoch 44/50\n",
      "\u001b[1m7771/7771\u001b[0m \u001b[32m━━━━━━━━━━━━━━━━━━━━\u001b[0m\u001b[37m\u001b[0m \u001b[1m42s\u001b[0m 5ms/step - accuracy: 0.9699 - loss: 0.1691 - precision: 0.9393 - recall: 0.9386\n",
      "Epoch 45/50\n",
      "\u001b[1m7771/7771\u001b[0m \u001b[32m━━━━━━━━━━━━━━━━━━━━\u001b[0m\u001b[37m\u001b[0m \u001b[1m41s\u001b[0m 5ms/step - accuracy: 0.9692 - loss: 0.1721 - precision: 0.9372 - recall: 0.9378\n",
      "Epoch 46/50\n",
      "\u001b[1m7771/7771\u001b[0m \u001b[32m━━━━━━━━━━━━━━━━━━━━\u001b[0m\u001b[37m\u001b[0m \u001b[1m41s\u001b[0m 5ms/step - accuracy: 0.9690 - loss: 0.1717 - precision: 0.9355 - recall: 0.9389\n",
      "Epoch 47/50\n",
      "\u001b[1m7771/7771\u001b[0m \u001b[32m━━━━━━━━━━━━━━━━━━━━\u001b[0m\u001b[37m\u001b[0m \u001b[1m42s\u001b[0m 5ms/step - accuracy: 0.9685 - loss: 0.1734 - precision: 0.9337 - recall: 0.9389\n",
      "Epoch 48/50\n",
      "\u001b[1m7771/7771\u001b[0m \u001b[32m━━━━━━━━━━━━━━━━━━━━\u001b[0m\u001b[37m\u001b[0m \u001b[1m42s\u001b[0m 5ms/step - accuracy: 0.9690 - loss: 0.1713 - precision: 0.9350 - recall: 0.9394\n",
      "Epoch 49/50\n",
      "\u001b[1m7771/7771\u001b[0m \u001b[32m━━━━━━━━━━━━━━━━━━━━\u001b[0m\u001b[37m\u001b[0m \u001b[1m40s\u001b[0m 5ms/step - accuracy: 0.9683 - loss: 0.1734 - precision: 0.9325 - recall: 0.9393\n",
      "Epoch 50/50\n",
      "\u001b[1m7771/7771\u001b[0m \u001b[32m━━━━━━━━━━━━━━━━━━━━\u001b[0m\u001b[37m\u001b[0m \u001b[1m40s\u001b[0m 5ms/step - accuracy: 0.9700 - loss: 0.1693 - precision: 0.9394 - recall: 0.9386\n",
      "\n",
      "=== Training Neural Network ===\n",
      "\u001b[1m1943/1943\u001b[0m \u001b[32m━━━━━━━━━━━━━━━━━━━━\u001b[0m\u001b[37m\u001b[0m \u001b[1m3s\u001b[0m 2ms/step\n",
      "Inference time (total): 4.3640 seconds\n",
      "Inference time per sample: 0.000002 seconds\n",
      "\u001b[1m1943/1943\u001b[0m \u001b[32m━━━━━━━━━━━━━━━━━━━━\u001b[0m\u001b[37m\u001b[0m \u001b[1m3s\u001b[0m 2ms/step\n",
      "              precision    recall  f1-score   support\n",
      "\n",
      "      Benign       0.98      0.98      0.98   1499489\n",
      "      Attack       0.95      0.94      0.95    489649\n",
      "\n",
      "    accuracy                           0.97   1989138\n",
      "   macro avg       0.97      0.96      0.96   1989138\n",
      "weighted avg       0.97      0.97      0.97   1989138\n",
      "\n",
      "ROC-AUC: 0.9896\n"
     ]
    }
   ],
   "source": [
    "# 3. Neural Net builder\n",
    "from tensorflow.keras.callbacks import EarlyStopping\n",
    "def create_nn():\n",
    "    model = Sequential([\n",
    "        Dense(256, activation='relu', input_shape=(X_train.shape[1],)),\n",
    "        Dropout(0.2),\n",
    "        Dense(128, activation='relu'),\n",
    "        Dropout(0.2),\n",
    "        Dense(64, activation='relu'),\n",
    "        Dense(1, activation='sigmoid')\n",
    "    ])\n",
    "    model.compile(\n",
    "        optimizer='adam',\n",
    "        loss='binary_crossentropy',\n",
    "        metrics=['accuracy', tf.keras.metrics.Precision(), tf.keras.metrics.Recall()]\n",
    "    )\n",
    "    return model\n",
    "\n",
    "# 4. Early stopping and wrap NN in sklearn\n",
    "early_stop = EarlyStopping(monitor='val_loss', patience=3)\n",
    "weights = {0: 1, 1: 3}\n",
    "nn_classifier = KerasClassifier(\n",
    "    build_fn=create_nn,\n",
    "    epochs=50,\n",
    "    batch_size=1024,\n",
    "    verbose=1,\n",
    "    class_weight=weights,\n",
    "    callbacks=[early_stop]\n",
    ")\n",
    "\n",
    "# Train the model\n",
    "nn_classifier.fit(X_train_scaled, y_train)\n",
    "print(\"\\n=== Training Neural Network ===\")\n",
    "start = time.time()\n",
    "y_pred = nn_classifier.predict(X_test_scaled)\n",
    "end = time.time()\n",
    "total_time = end - start\n",
    "avg_time_per_sample = total_time / X_test_scaled.shape[0]\n",
    "print(f\"Inference time (total): {total_time:.4f} seconds\")\n",
    "print(f\"Inference time per sample: {avg_time_per_sample:.6f} seconds\")\n",
    "y_proba = nn_classifier.predict_proba(X_test_scaled)[:, 1]\n",
    "print(classification_report(y_test, y_pred, target_names=['Benign', 'Attack']))\n",
    "print(f\"ROC-AUC: {roc_auc_score(y_test, y_proba):.4f}\")\n",
    "#This the one"
   ]
  },
  {
   "cell_type": "code",
   "execution_count": 25,
   "id": "cb492aef-bd45-4ee5-a979-c12528680f18",
   "metadata": {},
   "outputs": [
    {
     "data": {
      "image/png": "[encoded data removed]",
      "text/plain": [
       "<Figure size 1000x600 with 1 Axes>"
      ]
     },
     "metadata": {},
     "output_type": "display_data"
    }
   ],
   "source": [
    "# Plot threshold vs metrics\n",
    "plt.figure(figsize=(10,6))\n",
    "plt.plot(thresholds, precision_scores, label='Precision')\n",
    "plt.plot(thresholds, recall_scores, label='Recall')\n",
    "plt.plot(thresholds, f1_scores, label='F1 Score')\n",
    "plt.axvline(x=best_threshold, color='red', linestyle='--', label=f'Best threshold = {best_threshold:.2f}')\n",
    "plt.xlabel('Threshold')\n",
    "plt.ylabel('Score')\n",
    "plt.title('Threshold vs Precision/Recall/F1')\n",
    "plt.legend()\n",
    "plt.grid(True)\n",
    "plt.show()"
   ]
  },
  {
   "cell_type": "code",
   "execution_count": 37,
   "id": "98aad45d-7fb7-4425-95bd-7d01df0e9209",
   "metadata": {},
   "outputs": [
    {
     "name": "stderr",
     "output_type": "stream",
     "text": [
      "[Parallel(n_jobs=-1)]: Using backend ThreadingBackend with 16 concurrent workers.\n"
     ]
    },
    {
     "name": "stdout",
     "output_type": "stream",
     "text": [
      "building tree 1 of 100building tree 2 of 100\n",
      "\n",
      "building tree 3 of 100\n",
      "building tree 4 of 100\n",
      "building tree 5 of 100\n",
      "building tree 6 of 100\n",
      "building tree 7 of 100\n",
      "building tree 8 of 100\n",
      "building tree 9 of 100\n",
      "building tree 10 of 100\n",
      "building tree 11 of 100\n",
      "building tree 12 of 100\n",
      "building tree 13 of 100\n",
      "building tree 14 of 100\n",
      "building tree 15 of 100\n",
      "building tree 16 of 100\n",
      "building tree 17 of 100\n",
      "building tree 18 of 100\n",
      "building tree 19 of 100\n",
      "building tree 20 of 100\n",
      "building tree 21 of 100\n",
      "building tree 22 of 100\n",
      "building tree 23 of 100\n",
      "building tree 24 of 100\n",
      "building tree 25 of 100\n"
     ]
    },
    {
     "name": "stderr",
     "output_type": "stream",
     "text": [
      "[Parallel(n_jobs=-1)]: Done   9 tasks      | elapsed:  1.6min\n"
     ]
    },
    {
     "name": "stdout",
     "output_type": "stream",
     "text": [
      "building tree 26 of 100\n",
      "building tree 27 of 100\n",
      "building tree 28 of 100\n",
      "building tree 29 of 100\n",
      "building tree 30 of 100\n",
      "building tree 31 of 100\n",
      "building tree 32 of 100\n",
      "building tree 33 of 100\n",
      "building tree 34 of 100\n",
      "building tree 35 of 100\n",
      "building tree 36 of 100\n",
      "building tree 37 of 100\n",
      "building tree 38 of 100\n",
      "building tree 39 of 100\n",
      "building tree 40 of 100\n",
      "building tree 41 of 100\n",
      "building tree 42 of 100\n",
      "building tree 43 of 100\n",
      "building tree 44 of 100\n",
      "building tree 45 of 100\n",
      "building tree 46 of 100\n",
      "building tree 47 of 100\n",
      "building tree 48 of 100\n",
      "building tree 49 of 100\n",
      "building tree 50 of 100\n",
      "building tree 51 of 100\n",
      "building tree 52 of 100\n",
      "building tree 53 of 100\n",
      "building tree 54 of 100\n",
      "building tree 55 of 100\n",
      "building tree 56 of 100\n",
      "building tree 57 of 100\n",
      "building tree 58 of 100\n",
      "building tree 59 of 100\n",
      "building tree 60 of 100\n",
      "building tree 61 of 100\n",
      "building tree 62 of 100\n",
      "building tree 63 of 100\n",
      "building tree 64 of 100\n",
      "building tree 65 of 100\n",
      "building tree 66 of 100\n",
      "building tree 67 of 100\n",
      "building tree 68 of 100\n",
      "building tree 69 of 100building tree 70 of 100\n",
      "\n",
      "building tree 71 of 100\n",
      "building tree 72 of 100\n",
      "building tree 73 of 100\n",
      "building tree 74 of 100\n",
      "building tree 75 of 100\n",
      "building tree 76 of 100\n",
      "building tree 77 of 100\n",
      "building tree 78 of 100\n",
      "building tree 79 of 100\n",
      "building tree 80 of 100\n",
      "building tree 81 of 100\n",
      "building tree 82 of 100\n",
      "building tree 83 of 100\n",
      "building tree 84 of 100\n",
      "building tree 85 of 100\n",
      "building tree 86 of 100\n",
      "building tree 87 of 100\n",
      "building tree 88 of 100\n",
      "building tree 89 of 100\n",
      "building tree 90 of 100\n",
      "building tree 91 of 100\n",
      "building tree 92 of 100\n",
      "building tree 93 of 100\n",
      "building tree 94 of 100\n",
      "building tree 95 of 100\n",
      "building tree 96 of 100\n",
      "building tree 97 of 100\n",
      "building tree 98 of 100\n",
      "building tree 99 of 100\n",
      "building tree 100 of 100\n"
     ]
    },
    {
     "name": "stderr",
     "output_type": "stream",
     "text": [
      "[Parallel(n_jobs=-1)]: Done 100 out of 100 | elapsed:  9.2min finished\n",
      "[Parallel(n_jobs=16)]: Using backend ThreadingBackend with 16 concurrent workers.\n",
      "[Parallel(n_jobs=16)]: Done   9 tasks      | elapsed:    0.8s\n",
      "[Parallel(n_jobs=16)]: Done 100 out of 100 | elapsed:    6.1s finished\n"
     ]
    },
    {
     "name": "stdout",
     "output_type": "stream",
     "text": [
      "Inference time (total): 6.6775 seconds\n",
      "Inference time per sample: 0.000003 seconds\n",
      "\n",
      "Classification report using threshold = 0.52:\n",
      "              precision    recall  f1-score   support\n",
      "\n",
      "      Benign       0.98      1.00      0.99   1499489\n",
      "      Attack       0.99      0.93      0.96    489649\n",
      "\n",
      "    accuracy                           0.98   1989138\n",
      "   macro avg       0.99      0.97      0.98   1989138\n",
      "weighted avg       0.98      0.98      0.98   1989138\n",
      "\n",
      "ROC-AUC: 0.9941\n"
     ]
    },
    {
     "data": {
      "image/png": "[encoded data removed]",
      "text/plain": [
       "<Figure size 640x480 with 2 Axes>"
      ]
     },
     "metadata": {},
     "output_type": "display_data"
    }
   ],
   "source": [
    "# Final Random Forest model\n",
    "rf = RandomForestClassifier(\n",
    "    random_state=42,\n",
    "    n_estimators=100, \n",
    "    min_samples_split=10, \n",
    "    min_samples_leaf=2, \n",
    "    max_features='log2',\n",
    "    max_depth=30,\n",
    "    verbose=2,\n",
    "    n_jobs=-1\n",
    ")\n",
    "rf.fit(X_train, y_train)\n",
    "\n",
    "# Inference timing\n",
    "start = time.time()\n",
    "y_proba = rf.predict_proba(X_test)[:, 1]\n",
    "end = time.time()\n",
    "\n",
    "# Apply custom threshold of 0.52\n",
    "y_final_pred = (y_proba >= 0.52).astype(int)\n",
    "\n",
    "# Evaluation\n",
    "print(f\"Inference time (total): {end - start:.4f} seconds\")\n",
    "print(f\"Inference time per sample: {(end - start) / X_test.shape[0]:.6f} seconds\")\n",
    "print(\"\\nClassification report using threshold = 0.52:\")\n",
    "print(classification_report(y_test, y_final_pred, target_names=['Benign', 'Attack']))\n",
    "print(f\"ROC-AUC: {roc_auc_score(y_test, y_proba):.4f}\")\n",
    "\n",
    "#  Display confusion matrix\n",
    "ConfusionMatrixDisplay.from_predictions(y_test, y_final_pred, display_labels=['Benign', 'Attack'])\n",
    "plt.title(\"Confusion Matrix (Threshold = 0.52)\")\n",
    "plt.grid(False)\n",
    "plt.show()"
   ]
  },
  {
   "cell_type": "code",
   "execution_count": 22,
   "id": "646fb53b-b032-4e0a-b5d6-35797f30d402",
   "metadata": {},
   "outputs": [
    {
     "name": "stderr",
     "output_type": "stream",
     "text": [
      "C:\\Users\\hp\\anaconda3\\Lib\\site-packages\\xgboost\\training.py:183: UserWarning: [18:13:48] WARNING: C:\\actions-runner\\_work\\xgboost\\xgboost\\src\\learner.cc:738: \n",
      "Parameters: { \"use_label_encoder\" } are not used.\n",
      "\n",
      "  bst.update(dtrain, iteration=i, fobj=obj)\n"
     ]
    },
    {
     "name": "stdout",
     "output_type": "stream",
     "text": [
      "=== Final Model Evaluation ===\n",
      "Inference time (total): 3.3860 seconds\n",
      "Inference time per sample: 0.000002 seconds\n",
      "ROC-AUC: 0.9931\n",
      "Average Precision: 0.9861\n",
      "              precision    recall  f1-score   support\n",
      "\n",
      "      Benign       0.98      0.99      0.99   1506137\n",
      "      Attack       0.96      0.95      0.95    489649\n",
      "\n",
      "    accuracy                           0.98   1995786\n",
      "   macro avg       0.97      0.97      0.97   1995786\n",
      "weighted avg       0.98      0.98      0.98   1995786\n",
      "\n"
     ]
    }
   ],
   "source": [
    "from xgboost import XGBClassifier\n",
    "from sklearn.metrics import classification_report, roc_auc_score, average_precision_score\n",
    "import time\n",
    "\n",
    "# === Final XGBoost Model with Best Parameters ===\n",
    "final_xgb = XGBClassifier(\n",
    "    subsample=0.8,\n",
    "    scale_pos_weight=3,\n",
    "    n_estimators=200,\n",
    "    max_depth=7,\n",
    "    learning_rate=0.1,\n",
    "    gamma=0.1,\n",
    "    colsample_bytree=1.0,\n",
    "    random_state=42,\n",
    "    use_label_encoder=False,\n",
    "    eval_metric='logloss',\n",
    "    tree_method='hist'\n",
    ")\n",
    "\n",
    "# === Train the Model ===\n",
    "final_xgb.fit(X_train, y_train)\n",
    "\n",
    "# === Evaluate the Model ===\n",
    "start_time = time.time()\n",
    "y_pred = final_xgb.predict(X_test)\n",
    "y_proba = final_xgb.predict_proba(X_test)[:, 1]\n",
    "end_time = time.time()\n",
    "\n",
    "# === Metrics ===\n",
    "print(\"=== Final Model Evaluation ===\")\n",
    "print(f\"Inference time (total): {end_time - start_time:.4f} seconds\")\n",
    "print(f\"Inference time per sample: {(end_time - start_time) / X_test.shape[0]:.6f} seconds\")\n",
    "print(f\"ROC-AUC: {roc_auc_score(y_test, y_proba):.4f}\")\n",
    "print(f\"Average Precision: {average_precision_score(y_test, y_proba):.4f}\")\n",
    "print(classification_report(y_test, y_pred, target_names=[\"Benign\", \"Attack\"]))\n"
   ]
  },
  {
   "cell_type": "code",
   "execution_count": 24,
   "id": "d2ec183e-e30b-4834-98ac-405fa0671667",
   "metadata": {},
   "outputs": [
    {
     "data": {
      "text/plain": [
       "['model1_xgb.joblib']"
      ]
     },
     "execution_count": 24,
     "metadata": {},
     "output_type": "execute_result"
    }
   ],
   "source": [
    "import joblib\n",
    "# Save the model\n",
    "joblib.dump(final_xgb, \"model1_xgb.joblib\")"
   ]
  },
  {
   "cell_type": "code",
   "execution_count": null,
   "id": "d78579e6-ea0b-45b5-be99-404b3cdbcbfe",
   "metadata": {},
   "outputs": [],
   "source": [
    "from matplotlib import pyplot as plt\n",
    "import matplotlib.image as mpimg\n",
    "\n",
    "# Load 2 images\n",
    "img1 = mpimg.imread(r'C:\\Users\\hp\\Desktop\\rfye.png')\n",
    "img2 = mpimg.imread(r'C:\\Users\\hp\\Desktop\\rfye2.png')\n",
    "\n",
    "# Set up a 1x2 grid\n",
    "fig, axes = plt.subplots(1, 2, figsize=(10, 5))\n",
    "\n",
    "# Display first image\n",
    "axes[0].imshow(img1)\n",
    "axes[0].set_title('Image 1')\n",
    "axes[0].axis('off')\n",
    "\n",
    "# Display second image\n",
    "axes[1].imshow(img2)\n",
    "axes[1].set_title('Image 2')\n",
    "axes[1].axis('off')\n",
    "\n",
    "# Final layout and save\n",
    "plt.tight_layout()\n",
    "plt.savefig(r'C:\\Users\\hp\\Desktop\\rfyee.png', dpi=300)\n",
    "plt.show()\n"
   ]
  },
  {
   "cell_type": "code",
   "execution_count": 83,
   "id": "e6a903c5-cb58-411d-acd9-78d24c777bab",
   "metadata": {},
   "outputs": [
    {
     "name": "stdout",
     "output_type": "stream",
     "text": [
      "\n",
      "=== Training Logistic Regression ===\n"
     ]
    }
   ],
   "source": [
    "lr = LogisticRegression(max_iter=1000, n_jobs=-1)\n",
    "print(\"\\n=== Training Logistic Regression ===\")\n",
    "lr.fit(X_train, y_train)\n",
    "start = time.time()\n",
    "y_pred = lr.predict(X_test)\n",
    "end = time.time()\n",
    "total_time = end - start\n",
    "avg_time_per_sample = total_time / X_test.shape[0]\n",
    "print(f\"Inference time (total): {total_time:.4f} seconds\")\n",
    "print(f\"Inference time per sample: {avg_time_per_sample:.6f} seconds\")\n",
    "y_proba = lr.predict_proba(X_test)[:, 1]\n",
    "print(classification_report(y_test, y_pred, target_names=['Benign', 'Attack']))\n",
    "print(f\"ROC-AUC: {roc_auc_score(y_test, y_proba):.4f}\")\n",
    "# === Confusion Matrix ===\n",
    "cm = confusion_matrix(y_test, y_pred)\n",
    "disp = ConfusionMatrixDisplay(confusion_matrix=cm, display_labels=['Benign', 'Attack'])\n",
    "disp.plot(cmap='Blues')\n",
    "plt.title(\"Confusion Matrix\")\n",
    "plt.show()\n",
    "\n",
    "# === ROC Curve ===\n",
    "fpr, tpr, thresholds = roc_curve(y_test, y_proba)\n",
    "roc_auc = auc(fpr, tpr)\n",
    "\n",
    "plt.figure()\n",
    "plt.plot(fpr, tpr, color='darkorange', lw=2, label=f'ROC curve (AUC = {roc_auc:.4f})')\n",
    "plt.plot([0, 1], [0, 1], color='navy', lw=2, linestyle='--')\n",
    "plt.xlabel('False Positive Rate')\n",
    "plt.ylabel('True Positive Rate')\n",
    "plt.title('ROC Curve')\n",
    "plt.legend(loc='lower right')\n",
    "plt.grid(True)\n",
    "plt.show()"
   ]
  }
 ],
 "metadata": {
  "kernelspec": {
   "display_name": "Python [conda env:base] *",
   "language": "python",
   "name": "conda-base-py"
  },
  "language_info": {
   "codemirror_mode": {
    "name": "ipython",
    "version": 3
   },
   "file_extension": ".py",
   "mimetype": "text/x-python",
   "name": "python",
   "nbconvert_exporter": "python",
   "pygments_lexer": "ipython3",
   "version": "3.12.7"
  }
 },
 "nbformat": 4,
 "nbformat_minor": 5
}
